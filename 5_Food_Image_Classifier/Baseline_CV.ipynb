{
 "cells": [
  {
   "cell_type": "markdown",
   "metadata": {
    "id": "OAqF8DSw_5TL"
   },
   "source": [
    "# Getting Started Code for [Chunin Exams Food Track- CV'2021](https://www.aicrowd.com/challenges/chunin-exams-food-track-cv-2021) on AIcrowd\n",
    "#### Author : Pulkit Gera"
   ]
  },
  {
   "cell_type": "markdown",
   "metadata": {
    "id": "0H3J2MVK_5TW"
   },
   "source": [
    "## Download Necessary Packages 📚"
   ]
  },
  {
   "cell_type": "code",
   "execution_count": 1,
   "metadata": {
    "colab": {
     "base_uri": "https://localhost:8080/"
    },
    "id": "psxJC7EC_5TX",
    "outputId": "edd96c01-145c-4a28-f78f-b8ef46116403"
   },
   "outputs": [
    {
     "name": "stdout",
     "output_type": "stream",
     "text": [
      "Error initializing plugin EntryPoint(name='Windows (alt)', value='keyrings.alt.Windows', group='keyring.backends').\n",
      "Traceback (most recent call last):\n",
      "  File \"/home/mallika/.local/lib/python3.6/site-packages/keyring/backend.py\", line 203, in _load_plugins\n",
      "    init_func = ep.load()\n",
      "  File \"/home/mallika/.local/lib/python3.6/site-packages/importlib_metadata/__init__.py\", line 95, in load\n",
      "    module = import_module(match.group('module'))\n",
      "  File \"/usr/lib/python3.6/importlib/__init__.py\", line 126, in import_module\n",
      "    return _bootstrap._gcd_import(name[level:], package, level)\n",
      "  File \"<frozen importlib._bootstrap>\", line 994, in _gcd_import\n",
      "  File \"<frozen importlib._bootstrap>\", line 971, in _find_and_load\n",
      "  File \"<frozen importlib._bootstrap>\", line 955, in _find_and_load_unlocked\n",
      "  File \"<frozen importlib._bootstrap>\", line 665, in _load_unlocked\n",
      "  File \"<frozen importlib._bootstrap_external>\", line 678, in exec_module\n",
      "  File \"<frozen importlib._bootstrap>\", line 219, in _call_with_frames_removed\n",
      "  File \"/usr/lib/python3/dist-packages/keyrings/alt/Windows.py\", line 9, in <module>\n",
      "    from . import file_base\n",
      "  File \"/usr/lib/python3/dist-packages/keyrings/alt/file_base.py\", line 13, in <module>\n",
      "    from keyring.util.escape import escape as escape_for_ini\n",
      "ModuleNotFoundError: No module named 'keyring.util.escape'\n",
      "Error initializing plugin EntryPoint(name='file', value='keyrings.alt.file', group='keyring.backends').\n",
      "Traceback (most recent call last):\n",
      "  File \"/home/mallika/.local/lib/python3.6/site-packages/keyring/backend.py\", line 203, in _load_plugins\n",
      "    init_func = ep.load()\n",
      "  File \"/home/mallika/.local/lib/python3.6/site-packages/importlib_metadata/__init__.py\", line 95, in load\n",
      "    module = import_module(match.group('module'))\n",
      "  File \"/usr/lib/python3.6/importlib/__init__.py\", line 126, in import_module\n",
      "    return _bootstrap._gcd_import(name[level:], package, level)\n",
      "  File \"<frozen importlib._bootstrap>\", line 994, in _gcd_import\n",
      "  File \"<frozen importlib._bootstrap>\", line 971, in _find_and_load\n",
      "  File \"<frozen importlib._bootstrap>\", line 955, in _find_and_load_unlocked\n",
      "  File \"<frozen importlib._bootstrap>\", line 665, in _load_unlocked\n",
      "  File \"<frozen importlib._bootstrap_external>\", line 678, in exec_module\n",
      "  File \"<frozen importlib._bootstrap>\", line 219, in _call_with_frames_removed\n",
      "  File \"/usr/lib/python3/dist-packages/keyrings/alt/file.py\", line 11, in <module>\n",
      "    from keyring.util.escape import escape as escape_for_ini\n",
      "ModuleNotFoundError: No module named 'keyring.util.escape'\n",
      "Error initializing plugin EntryPoint(name='pyfs', value='keyrings.alt.pyfs', group='keyring.backends').\n",
      "Traceback (most recent call last):\n",
      "  File \"/home/mallika/.local/lib/python3.6/site-packages/keyring/backend.py\", line 203, in _load_plugins\n",
      "    init_func = ep.load()\n",
      "  File \"/home/mallika/.local/lib/python3.6/site-packages/importlib_metadata/__init__.py\", line 95, in load\n",
      "    module = import_module(match.group('module'))\n",
      "  File \"/usr/lib/python3.6/importlib/__init__.py\", line 126, in import_module\n",
      "    return _bootstrap._gcd_import(name[level:], package, level)\n",
      "  File \"<frozen importlib._bootstrap>\", line 994, in _gcd_import\n",
      "  File \"<frozen importlib._bootstrap>\", line 971, in _find_and_load\n",
      "  File \"<frozen importlib._bootstrap>\", line 955, in _find_and_load_unlocked\n",
      "  File \"<frozen importlib._bootstrap>\", line 665, in _load_unlocked\n",
      "  File \"<frozen importlib._bootstrap_external>\", line 678, in exec_module\n",
      "  File \"<frozen importlib._bootstrap>\", line 219, in _call_with_frames_removed\n",
      "  File \"/usr/lib/python3/dist-packages/keyrings/alt/pyfs.py\", line 8, in <module>\n",
      "    from keyring.util.escape import escape as escape_for_ini\n",
      "ModuleNotFoundError: No module named 'keyring.util.escape'\n",
      "Defaulting to user installation because normal site-packages is not writeable\n",
      "Collecting aicrowd-cli\n",
      "  Downloading aicrowd_cli-0.1.2-py3-none-any.whl (42 kB)\n",
      "\u001b[K     |████████████████████████████████| 42 kB 23 kB/s  eta 0:00:011\n",
      "\u001b[?25hCollecting tqdm<5,>=4.56.0\n",
      "  Downloading tqdm-4.60.0-py2.py3-none-any.whl (75 kB)\n",
      "\u001b[K     |████████████████████████████████| 75 kB 121 kB/s eta 0:00:011\n",
      "\u001b[?25hCollecting requests<3,>=2.25.1\n",
      "  Using cached requests-2.25.1-py2.py3-none-any.whl (61 kB)\n",
      "Collecting click<8,>=7.1.2\n",
      "  Using cached click-7.1.2-py2.py3-none-any.whl (82 kB)\n",
      "Collecting gitpython<4,>=3.1.12\n",
      "  Downloading GitPython-3.1.14-py3-none-any.whl (159 kB)\n",
      "\u001b[K     |████████████████████████████████| 159 kB 4.5 MB/s eta 0:00:01\n",
      "\u001b[?25hCollecting toml<1,>=0.10.2\n",
      "  Downloading toml-0.10.2-py2.py3-none-any.whl (16 kB)\n",
      "Collecting rich<11,>=10.0.0\n",
      "  Downloading rich-10.1.0-py3-none-any.whl (201 kB)\n",
      "\u001b[K     |████████████████████████████████| 201 kB 4.1 MB/s eta 0:00:01\n",
      "\u001b[?25hCollecting requests-toolbelt<1,>=0.9.1\n",
      "  Downloading requests_toolbelt-0.9.1-py2.py3-none-any.whl (54 kB)\n",
      "\u001b[K     |████████████████████████████████| 54 kB 229 kB/s eta 0:00:01\n",
      "\u001b[?25hRequirement already satisfied: certifi>=2017.4.17 in /home/mallika/.local/lib/python3.6/site-packages (from requests<3,>=2.25.1->aicrowd-cli) (2020.4.5.2)\n",
      "Requirement already satisfied: urllib3<1.27,>=1.21.1 in /home/mallika/.local/lib/python3.6/site-packages (from requests<3,>=2.25.1->aicrowd-cli) (1.24.3)\n",
      "Requirement already satisfied: chardet<5,>=3.0.2 in /home/mallika/.local/lib/python3.6/site-packages (from requests<3,>=2.25.1->aicrowd-cli) (3.0.4)\n",
      "Requirement already satisfied: idna<3,>=2.5 in /home/mallika/.local/lib/python3.6/site-packages (from requests<3,>=2.25.1->aicrowd-cli) (2.8)\n",
      "Collecting gitdb<5,>=4.0.1\n",
      "  Downloading gitdb-4.0.7-py3-none-any.whl (63 kB)\n",
      "\u001b[K     |████████████████████████████████| 63 kB 123 kB/s eta 0:00:011\n",
      "\u001b[?25hRequirement already satisfied: typing-extensions<4.0.0,>=3.7.4 in /home/mallika/.local/lib/python3.6/site-packages (from rich<11,>=10.0.0->aicrowd-cli) (3.7.4.3)\n",
      "Requirement already satisfied: dataclasses<0.9,>=0.7; python_version >= \"3.6\" and python_version < \"3.7\" in /home/mallika/.local/lib/python3.6/site-packages (from rich<11,>=10.0.0->aicrowd-cli) (0.7)\n",
      "Requirement already satisfied: colorama<0.5.0,>=0.4.0 in /home/mallika/.local/lib/python3.6/site-packages (from rich<11,>=10.0.0->aicrowd-cli) (0.4.3)\n",
      "Requirement already satisfied: pygments<3.0.0,>=2.6.0 in /home/mallika/.local/lib/python3.6/site-packages (from rich<11,>=10.0.0->aicrowd-cli) (2.6.1)\n",
      "Collecting commonmark<0.10.0,>=0.9.0\n",
      "  Downloading commonmark-0.9.1-py2.py3-none-any.whl (51 kB)\n",
      "\u001b[K     |████████████████████████████████| 51 kB 820 kB/s eta 0:00:011\n",
      "\u001b[?25hCollecting smmap<5,>=3.0.1\n",
      "  Downloading smmap-4.0.0-py2.py3-none-any.whl (24 kB)\n",
      "Installing collected packages: tqdm, requests, click, smmap, gitdb, gitpython, toml, commonmark, rich, requests-toolbelt, aicrowd-cli\n",
      "  Attempting uninstall: tqdm\n",
      "    Found existing installation: tqdm 4.47.0\n",
      "    Uninstalling tqdm-4.47.0:\n",
      "      Successfully uninstalled tqdm-4.47.0\n",
      "  Attempting uninstall: requests\n",
      "    Found existing installation: requests 2.21.0\n",
      "    Uninstalling requests-2.21.0:\n",
      "      Successfully uninstalled requests-2.21.0\n",
      "  Attempting uninstall: click\n",
      "    Found existing installation: Click 7.0\n",
      "    Uninstalling Click-7.0:\n",
      "      Successfully uninstalled Click-7.0\n",
      "  Attempting uninstall: toml\n",
      "    Found existing installation: toml 0.10.1\n",
      "    Uninstalling toml-0.10.1:\n",
      "      Successfully uninstalled toml-0.10.1\n",
      "  Attempting uninstall: requests-toolbelt\n",
      "    Found existing installation: requests-toolbelt 0.8.0\n",
      "    Uninstalling requests-toolbelt-0.8.0:\n",
      "      Successfully uninstalled requests-toolbelt-0.8.0\n",
      "\u001b[31mERROR: After October 2020 you may experience errors when installing or updating packages. This is because pip will change the way that it resolves dependency conflicts.\n",
      "\n",
      "We recommend you use --use-feature=2020-resolver to test your packages with the new resolver before it becomes the default.\n",
      "\n",
      "pyppeteer 0.2.2 requires urllib3<2.0.0,>=1.25.8, but you'll have urllib3 1.24.3 which is incompatible.\n",
      "poetry 1.0.5 requires importlib-metadata<1.2.0,>=1.1.3; python_version < \"3.8\", but you'll have importlib-metadata 1.6.0 which is incompatible.\n",
      "poetry 1.0.5 requires pyrsistent<0.15.0,>=0.14.2, but you'll have pyrsistent 0.16.0 which is incompatible.\n",
      "poetry 1.0.5 requires requests-toolbelt<0.9.0,>=0.8.0, but you'll have requests-toolbelt 0.9.1 which is incompatible.\n",
      "notify-run 0.0.13 requires requests==2.22.0, but you'll have requests 2.25.1 which is incompatible.\n",
      "google-colab 1.0.0 requires ipykernel~=4.6.0, but you'll have ipykernel 5.4.2 which is incompatible.\n",
      "google-colab 1.0.0 requires requests~=2.21.0, but you'll have requests 2.25.1 which is incompatible.\n",
      "gitsome 0.8.4 requires click<7.0,>=5.1, but you'll have click 7.1.2 which is incompatible.\n",
      "gitsome 0.8.4 requires prompt-toolkit<2.1.0,>=2.0.0, but you'll have prompt-toolkit 1.0.18 which is incompatible.\n",
      "gitsome 0.8.4 requires pytz<2017.0,>=2016.3, but you'll have pytz 2020.1 which is incompatible.\u001b[0m\n",
      "Successfully installed aicrowd-cli-0.1.2 click-7.1.2 commonmark-0.9.1 gitdb-4.0.7 gitpython-3.1.14 requests-2.25.1 requests-toolbelt-0.9.1 rich-10.1.0 smmap-4.0.0 toml-0.10.2 tqdm-4.60.0\n"
     ]
    },
    {
     "name": "stdout",
     "output_type": "stream",
     "text": [
      "\u001b[33mWARNING: You are using pip version 20.2.1; however, version 21.0.1 is available.\r\n",
      "You should consider upgrading via the '/usr/bin/python3 -m pip install --upgrade pip' command.\u001b[0m\r\n"
     ]
    }
   ],
   "source": [
    "!pip install aicrowd-cli"
   ]
  },
  {
   "cell_type": "markdown",
   "metadata": {
    "id": "D5L6NxEe_5TZ"
   },
   "source": [
    "## Download Data\n",
    "The first step is to download out train test data. We will be training a model on the train data and make predictions on test data. We submit our predictions.\n"
   ]
  },
  {
   "cell_type": "code",
   "execution_count": 2,
   "metadata": {
    "colab": {
     "base_uri": "https://localhost:8080/"
    },
    "id": "lyF9gbdx_5TZ",
    "outputId": "da27ed41-fe2a-4904-a5f0-6e8f09527a33"
   },
   "outputs": [
    {
     "name": "stdout",
     "output_type": "stream",
     "text": [
      "\u001b[32mAPI Key valid\u001b[0m\r\n",
      "\u001b[32mSaved API Key successfully!\u001b[0m\r\n"
     ]
    }
   ],
   "source": [
    "API_KEY = \"c0377f0fb65414eaa12c1998de4c65c2\" #Please enter your API Key from [https://www.aicrowd.com/participants/me]\n",
    "!aicrowd login --api-key $API_KEY"
   ]
  },
  {
   "cell_type": "code",
   "execution_count": 3,
   "metadata": {
    "colab": {
     "base_uri": "https://localhost:8080/"
    },
    "id": "hx8pHTHZ_5Ta",
    "outputId": "ce730715-1fe5-4e54-ee15-f60ef21bf75b"
   },
   "outputs": [
    {
     "name": "stdout",
     "output_type": "stream",
     "text": [
      "/home/mallika/.local/lib/python3.6/site-packages/IPython/utils/traitlets.py:5: UserWarning: IPython.utils.traitlets has moved to a top-level traitlets package.\n",
      "  warn(\"IPython.utils.traitlets has moved to a top-level traitlets package.\")\n",
      "test_images.zip:   0%|                              | 0.00/33.9M [00:00<?, ?B/s]\n",
      "train_images.zip:   0%|                              | 0.00/754M [00:00<?, ?B/s]\u001b[A\n",
      "\n",
      "test.csv: 100%|█████████████████████████████| 7.27k/7.27k [00:00<00:00, 176kB/s]\u001b[A\u001b[A\n",
      "\n",
      "\n",
      "train.csv:   0%|                                     | 0.00/253k [00:00<?, ?B/s]\u001b[A\u001b[A\n",
      "\n",
      "train.csv: 100%|█████████████████████████████| 253k/253k [00:04<00:00, 62.0kB/s]\u001b[A\u001b[A\n",
      "test_images.zip: 100%|█████████████████████| 33.9M/33.9M [00:10<00:00, 3.38MB/s]\n",
      "\n",
      "train_images.zip:   4%|▉                    | 33.6M/754M [00:16<05:45, 2.09MB/s]\u001b[A\n",
      "train_images.zip:   9%|█▊                   | 67.1M/754M [00:21<03:20, 3.43MB/s]\u001b[A\n",
      "train_images.zip:  13%|██▉                   | 101M/754M [00:26<02:32, 4.30MB/s]\u001b[A\n",
      "train_images.zip:  18%|███▉                  | 134M/754M [00:31<02:04, 5.00MB/s]\u001b[A\n",
      "train_images.zip:  22%|████▉                 | 168M/754M [00:37<01:49, 5.35MB/s]\u001b[A\n",
      "train_images.zip:  27%|█████▊                | 201M/754M [00:42<01:38, 5.63MB/s]\u001b[A\n",
      "train_images.zip:  31%|██████▊               | 235M/754M [00:48<01:28, 5.85MB/s]\u001b[A\n",
      "train_images.zip:  36%|███████▊              | 268M/754M [00:55<01:29, 5.41MB/s]\u001b[A\n",
      "train_images.zip:  40%|████████▊             | 302M/754M [01:01<01:23, 5.39MB/s]\u001b[A\n",
      "train_images.zip:  44%|█████████▊            | 336M/754M [01:06<01:14, 5.63MB/s]\u001b[A\n",
      "train_images.zip:  49%|██████████▊           | 369M/754M [01:12<01:08, 5.63MB/s]\u001b[A\n",
      "train_images.zip:  53%|███████████▋          | 403M/754M [01:17<00:59, 5.90MB/s]\u001b[A\n",
      "train_images.zip:  58%|████████████▋         | 436M/754M [01:23<00:54, 5.80MB/s]\u001b[A\n",
      "train_images.zip:  62%|█████████████▋        | 470M/754M [01:29<00:47, 5.99MB/s]\u001b[A\n",
      "train_images.zip:  67%|██████████████▋       | 503M/754M [01:35<00:43, 5.81MB/s]\u001b[A\n",
      "train_images.zip:  71%|███████████████▋      | 537M/754M [01:42<00:40, 5.36MB/s]\u001b[A\n",
      "train_images.zip:  76%|████████████████▋     | 570M/754M [01:49<00:35, 5.15MB/s]\u001b[A\n",
      "train_images.zip:  80%|█████████████████▌    | 604M/754M [01:57<00:30, 4.89MB/s]\u001b[A\n",
      "train_images.zip:  84%|██████████████████▌   | 638M/754M [02:04<00:24, 4.85MB/s]\u001b[A\n",
      "train_images.zip:  89%|███████████████████▌  | 671M/754M [02:11<00:17, 4.75MB/s]\u001b[A\n",
      "train_images.zip:  93%|████████████████████▌ | 705M/754M [02:18<00:10, 4.84MB/s]\u001b[A\n",
      "train_images.zip:  98%|█████████████████████▌| 738M/754M [02:24<00:03, 5.01MB/s]\u001b[A\n",
      "train_images.zip: 100%|██████████████████████| 754M/754M [02:27<00:00, 5.12MB/s]\u001b[A\n"
     ]
    }
   ],
   "source": [
    "!aicrowd dataset download --challenge chunin-exams-food-track-cv-2021"
   ]
  },
  {
   "cell_type": "code",
   "execution_count": 4,
   "metadata": {
    "id": "8NwyXyca_5Ta"
   },
   "outputs": [],
   "source": [
    "!rm -rf data\n",
    "!mkdir data\n"
   ]
  },
  {
   "cell_type": "markdown",
   "metadata": {
    "id": "5IX79Ffa_5Te"
   },
   "source": [
    "## Making Direct Submission thought Aicrowd CLI"
   ]
  },
  {
   "cell_type": "code",
   "execution_count": null,
   "metadata": {
    "colab": {
     "base_uri": "https://localhost:8080/"
    },
    "id": "-j1W9w4t_5Te",
    "outputId": "c0a9a039-1f79-49f6-9e87-7d7bc8ddc2e2"
   },
   "outputs": [
    {
     "name": "stdout",
     "output_type": "stream",
     "text": [
      "\u001b[2K\u001b[1;34msubmission.csv\u001b[0m \u001b[90m━━━━━━━━━━━━━━━━━━━━━━\u001b[0m \u001b[35m100.0%\u001b[0m • \u001b[32m13.1/11.5 KB\u001b[0m • \u001b[31m1.4 MB/s\u001b[0m • \u001b[36m0:00:00\u001b[0m\n",
      "\u001b[?25h                                                 ╭─────────────────────────╮                                                  \n",
      "                                                 │ \u001b[1mSuccessfully submitted!\u001b[0m │                                                  \n",
      "                                                 ╰─────────────────────────╯                                                  \n",
      "\u001b[3m                                                       Important links                                                        \u001b[0m\n",
      "┌──────────────────┬─────────────────────────────────────────────────────────────────────────────────────────────────────────┐\n",
      "│  This submission │ https://www.aicrowd.com/challenges/ai-blitz-7/problems/stage-prediction/submissions/125933              │\n",
      "│                  │                                                                                                         │\n",
      "│  All submissions │ https://www.aicrowd.com/challenges/ai-blitz-7/problems/stage-prediction/submissions?my_submissions=true │\n",
      "│                  │                                                                                                         │\n",
      "│      Leaderboard │ https://www.aicrowd.com/challenges/ai-blitz-7/problems/stage-prediction/leaderboards                    │\n",
      "│                  │                                                                                                         │\n",
      "│ Discussion forum │ https://discourse.aicrowd.com/c/ai-blitz-7                                                              │\n",
      "│                  │                                                                                                         │\n",
      "│   Challenge page │ https://www.aicrowd.com/challenges/ai-blitz-7/problems/stage-prediction                                 │\n",
      "└──────────────────┴─────────────────────────────────────────────────────────────────────────────────────────────────────────┘\n",
      "{'submission_id': 125933, 'created_at': '2021-03-12T14:32:25.301Z'}\n"
     ]
    }
   ],
   "source": [
    "!aicrowd submission create -c chunin-exams-food-track-cv-2021 -f submission.csv"
   ]
  }
 ],
 "metadata": {
  "colab": {
   "collapsed_sections": [],
   "name": "Baseline CV",
   "provenance": [],
   "toc_visible": true
  },
  "kernelspec": {
   "display_name": "Python 3",
   "language": "python",
   "name": "python3"
  },
  "language_info": {
   "codemirror_mode": {
    "name": "ipython",
    "version": 3
   },
   "file_extension": ".py",
   "mimetype": "text/x-python",
   "name": "python",
   "nbconvert_exporter": "python",
   "pygments_lexer": "ipython3",
   "version": "3.6.9"
  }
 },
 "nbformat": 4,
 "nbformat_minor": 1
}
