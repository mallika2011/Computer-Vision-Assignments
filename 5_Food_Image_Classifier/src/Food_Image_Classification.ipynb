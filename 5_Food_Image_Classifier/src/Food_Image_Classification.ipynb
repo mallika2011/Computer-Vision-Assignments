{
 "cells": [
  {
   "cell_type": "markdown",
   "metadata": {},
   "source": [
    "# Food Classification (Part 1)"
   ]
  },
  {
   "cell_type": "code",
   "execution_count": 1,
   "metadata": {
    "colab": {
     "base_uri": "https://localhost:8080/"
    },
    "id": "PtYTQF-rEhMt",
    "outputId": "83cc5aa0-cd70-41d4-d975-e2f2f68ff49d"
   },
   "outputs": [
    {
     "name": "stdout",
     "output_type": "stream",
     "text": [
      "Mounted at /content/drive\n"
     ]
    }
   ],
   "source": [
    "from google.colab import drive\n",
    "drive.mount('/content/drive')"
   ]
  },
  {
   "cell_type": "code",
   "execution_count": 2,
   "metadata": {
    "colab": {
     "base_uri": "https://localhost:8080/"
    },
    "id": "F4VeFViiFaeb",
    "outputId": "ec6364ce-6b8b-49c7-dadf-18a4fecd6e21"
   },
   "outputs": [
    {
     "name": "stdout",
     "output_type": "stream",
     "text": [
      "best_model.pth\tModel1.pth  Model3.pth\tModel6.pth  oldModel2.pth\n",
      "Model0.pth\tModel2.pth  Model5.pth\tModel9.pth  oldModel3.pth\n"
     ]
    }
   ],
   "source": [
    "!ls drive/MyDrive/2Image-Classification/outputs/\n",
    "DATA_PATH = \"drive/MyDrive/2Image-Classification/outputs/\""
   ]
  },
  {
   "cell_type": "markdown",
   "metadata": {
    "id": "rj6qv17seH5S"
   },
   "source": [
    "# Get Data and CSVs\n",
    "\n",
    "Download and get all the data images and files from the AI Crowd portal."
   ]
  },
  {
   "cell_type": "code",
   "execution_count": 3,
   "metadata": {
    "colab": {
     "base_uri": "https://localhost:8080/"
    },
    "id": "BQkf7W_2eGbd",
    "outputId": "1f95acf5-66cb-422b-c673-fee86cd741c8"
   },
   "outputs": [
    {
     "name": "stdout",
     "output_type": "stream",
     "text": [
      "\u001b[?25l\r",
      "\u001b[K     |███████▊                        | 10kB 19.3MB/s eta 0:00:01\r",
      "\u001b[K     |███████████████▌                | 20kB 23.3MB/s eta 0:00:01\r",
      "\u001b[K     |███████████████████████▏        | 30kB 15.3MB/s eta 0:00:01\r",
      "\u001b[K     |███████████████████████████████ | 40kB 10.6MB/s eta 0:00:01\r",
      "\u001b[K     |████████████████████████████████| 51kB 2.8MB/s \n",
      "\u001b[K     |████████████████████████████████| 61kB 4.6MB/s \n",
      "\u001b[K     |████████████████████████████████| 163kB 12.3MB/s \n",
      "\u001b[K     |████████████████████████████████| 61kB 6.5MB/s \n",
      "\u001b[K     |████████████████████████████████| 204kB 11.6MB/s \n",
      "\u001b[K     |████████████████████████████████| 81kB 7.6MB/s \n",
      "\u001b[K     |████████████████████████████████| 71kB 7.3MB/s \n",
      "\u001b[K     |████████████████████████████████| 51kB 5.5MB/s \n",
      "\u001b[31mERROR: google-colab 1.0.0 has requirement requests~=2.23.0, but you'll have requests 2.25.1 which is incompatible.\u001b[0m\n",
      "\u001b[31mERROR: datascience 0.10.6 has requirement folium==0.2.1, but you'll have folium 0.8.3 which is incompatible.\u001b[0m\n",
      "\u001b[?25h"
     ]
    }
   ],
   "source": [
    "!pip install aicrowd-cli -q"
   ]
  },
  {
   "cell_type": "code",
   "execution_count": 4,
   "metadata": {
    "colab": {
     "base_uri": "https://localhost:8080/"
    },
    "id": "rOKfS12ueODl",
    "outputId": "8f555e65-f11c-4c8e-8a7a-8c005b69c035"
   },
   "outputs": [
    {
     "name": "stdout",
     "output_type": "stream",
     "text": [
      "\u001b[32mAPI Key valid\u001b[0m\n",
      "\u001b[32mSaved API Key successfully!\u001b[0m\n"
     ]
    }
   ],
   "source": [
    "API_KEY = \"c0377f0fb65414eaa12c1998de4c65c2\" #Please enter your API Key from [https://www.aicrowd.com/participants/me]\n",
    "!aicrowd login --api-key $API_KEY"
   ]
  },
  {
   "cell_type": "code",
   "execution_count": 5,
   "metadata": {
    "colab": {
     "base_uri": "https://localhost:8080/"
    },
    "id": "WOo2VGzoeQZf",
    "outputId": "413e9aa6-b3f4-4fab-c1da-a517e5242722"
   },
   "outputs": [
    {
     "name": "stdout",
     "output_type": "stream",
     "text": [
      "train_images.zip: 100% 754M/754M [00:38<00:00, 19.7MB/s]\n",
      "test_images.zip: 100% 33.9M/33.9M [00:02<00:00, 13.2MB/s]\n",
      "train.csv: 100% 253k/253k [00:00<00:00, 489kB/s]\n",
      "test.csv: 100% 7.27k/7.27k [00:00<00:00, 749kB/s]\n"
     ]
    }
   ],
   "source": [
    "!aicrowd dataset download --challenge chunin-exams-food-track-cv-2021"
   ]
  },
  {
   "cell_type": "code",
   "execution_count": 6,
   "metadata": {
    "id": "FVZIFVu-eSS4"
   },
   "outputs": [],
   "source": [
    "!unzip -q train_images.zip"
   ]
  },
  {
   "cell_type": "code",
   "execution_count": 7,
   "metadata": {
    "id": "KWwyGo3KeUIT"
   },
   "outputs": [],
   "source": [
    "!unzip -q test_images.zip"
   ]
  },
  {
   "cell_type": "markdown",
   "metadata": {
    "id": "jb72s6A7F84T"
   },
   "source": [
    "# Imports"
   ]
  },
  {
   "cell_type": "code",
   "execution_count": 1,
   "metadata": {
    "id": "BwJ68fV1FqB9"
   },
   "outputs": [],
   "source": [
    "import matplotlib.pyplot as plt\n",
    "import os\n",
    "import torch\n",
    "import pandas as pd\n",
    "from skimage import io, transform\n",
    "import numpy as np\n",
    "import matplotlib.pyplot as plt\n",
    "import tqdm\n",
    "import cv2\n",
    "from PIL import Image\n",
    "\n",
    "from torch.utils.data import Dataset, DataLoader\n",
    "from torchvision import transforms, utils\n",
    "from torch.utils.data.sampler import SubsetRandomSampler\n",
    "from torch import nn, optim\n",
    "from torchvision import transforms, utils, datasets"
   ]
  },
  {
   "cell_type": "markdown",
   "metadata": {
    "id": "kR9eZsI8Ivui"
   },
   "source": [
    "# Dataset Creation and Loader\n",
    "\n",
    "In order use our training and test data for deep learning, it needs to be in a compatible format. All deep learning frameworks and libraries require the data in a specific format, in order to process it and train corresponding models. For this purpose, the ***Dataloader*** and ***Dataset Class*** are important methods. These help us to feed our own training data into the network. \n",
    "\n",
    "The Dataset class is used to provide an interface for accessing all the training or testing samples in the dataset. That is, it creates a class with methods in order to reference the different instances of the data samples. A custom data set class in python overrides the `__getitem__` and the `__len__` methods, so as to suite the requirements of the custom data format. \n",
    "\n",
    "Although we can access all the training data using the Dataset class, for deep learning, we would need *batching, shuffling, multiprocess data loading*, etc. DataLoader class helps us to do this. The DataLoader class accepts a dataset and other parameters such as `batch_size`, `batch_sampler` and `number of workers` to load the data .Then we can iterate over the Dataloader to get batches of training data and train our models.\n",
    "\n",
    "**References**:\n",
    "\n",
    "* To build a custom dataset and dataloader : [Reference](https://pytorch.org/tutorials/recipes/recipes/custom_dataset_transforms_loader.html)\n",
    "\n",
    "* Writing a Python Dataloader : [Reference](https://medium.com/analytics-vidhya/writing-a-custom-dataloader-for-a-simple-neural-network-in-pytorch-a310bea680af)"
   ]
  },
  {
   "cell_type": "code",
   "execution_count": 9,
   "metadata": {
    "id": "EWBQ3H-jRvm-"
   },
   "outputs": [],
   "source": [
    "food_id2name = {}\n",
    "food_name2id = {}\n",
    "\n",
    "food_i = -1\n",
    "with open(\"dataset_info.txt\", 'r') as f:\n",
    "\n",
    "    line = f.readline().strip()\n",
    "\n",
    "    while(line):\n",
    "        if food_i < 0 :\n",
    "            food_i+=1\n",
    "            line = f.readline().strip()\n",
    "            continue\n",
    "\n",
    "        num, name = line.split(\" \")\n",
    "        num = int(num[:-1])\n",
    "        food_id2name[num] = name\n",
    "        food_name2id[name] = num\n",
    "\n",
    "        food_i+=1\n",
    "        line = f.readline().strip()"
   ]
  },
  {
   "cell_type": "code",
   "execution_count": 10,
   "metadata": {
    "colab": {
     "base_uri": "https://localhost:8080/"
    },
    "id": "G8eogBrf7MGi",
    "outputId": "914aab8d-ce56-4224-d24e-a7e0d7ea3264"
   },
   "outputs": [
    {
     "data": {
      "text/plain": [
       "62"
      ]
     },
     "execution_count": 10,
     "metadata": {
      "tags": []
     },
     "output_type": "execute_result"
    }
   ],
   "source": [
    "len(food_name2id)"
   ]
  },
  {
   "cell_type": "code",
   "execution_count": 11,
   "metadata": {
    "id": "5Y0XQ_mjGBVI"
   },
   "outputs": [],
   "source": [
    "class FoodDataset(Dataset):\n",
    "\n",
    "    def __init__(self, csv_file, root_dir, dataset_type, transform=None):\n",
    "        \"\"\"\n",
    "        Args:\n",
    "            csv_file (string): Path to the csv file with annotations.\n",
    "            root_dir (string): Directory with all the images.\n",
    "            transform (callable, optional): Optional transform to be applied\n",
    "                on a sample.\n",
    "        \"\"\"\n",
    "        self.food_df = pd.read_csv(csv_file)\n",
    "        #self.food_df = self.food_df.head(100)\n",
    "        \n",
    "        if dataset_type == \"train\":\n",
    "           self.food_df = self.food_df.groupby('ClassName').apply(lambda x: x.sample(frac=0.40)).reset_index(drop = True) #selecting a subset of data (61*70)\n",
    "\n",
    "        self.root_dir = root_dir\n",
    "        self.transform = transform\n",
    "        self.dataset_type = dataset_type\n",
    "\n",
    "    def __len__(self):\n",
    "        return len(self.food_df)\n",
    "\n",
    "    def __getitem__(self, idx):\n",
    "        if torch.is_tensor(idx):\n",
    "            idx = idx.tolist()\n",
    "\n",
    "        img_name = os.path.join(self.root_dir, self.food_df.iloc[idx, 0])\n",
    "        image = Image.open(img_name)\n",
    "        image = image.resize((64,64))\n",
    "\n",
    "        if self.dataset_type == \"train\":\n",
    "            food_class = torch.tensor(food_name2id[self.food_df.iloc[idx, 1]])\n",
    "            sample = {'image': image, 'food_class': food_class}\n",
    "        else:\n",
    "            sample = {'image': image}\n",
    "\n",
    "        if self.transform:\n",
    "            sample[\"image\"] = self.transform(sample[\"image\"])\n",
    "\n",
    "        return sample\n"
   ]
  },
  {
   "cell_type": "markdown",
   "metadata": {
    "id": "qz4tWPbqDXC0"
   },
   "source": [
    "# Data Transformations\n",
    "\n",
    "Many a times during training, the train data may not be fully representative of all the possibilities of input to the machine learning model. Especially for images, there could exist different orientations, angles, colours, intensities of the same image, thus causing differences in the input. Not all of these variations will be present in the dataset. Therefore, a suite of transformations used at training time is typically referred to as **data augmentation** and is a common practice for modern model development.\n",
    "\n",
    "It performs the set of transformations *on fly* in each iteration. Hence it does not increase the actual scale of the data on the disk.\n",
    "\n",
    "There exist multiple types of data augmentation techniques that can be applied to the train dataset images :\n",
    "\n",
    "* Rotation, Horizontal and Vertical Flip, Affine transforms\n",
    "* Colour Jitter variation transofrms\n",
    "* Normalization to a particular $(\\mu, \\sigma)$ distribution\n",
    "* Conversion to tensor transforms.\n",
    "\n",
    "**Note :** \n",
    "\n",
    "The ToTensor converts a PIL Image or numpy.ndarray (H x W x C) in the range [0, 255] to a torch.FloatTensor of shape (C x H x W) in the range [0.0, 1.0]. This is required to convert all images to tensors in our dataloader. [Ref](https://towardsdatascience.com/pytorch-vision-binary-image-classification-d9a227705cf9)\n",
    "\n",
    "References : \n",
    "* Survey paper on how augmentation helps : [Link](https://scholar.smu.edu/cgi/viewcontent.cgi?article=1091&context=datasciencereview)"
   ]
  },
  {
   "cell_type": "code",
   "execution_count": 12,
   "metadata": {
    "id": "QabdmhkkDceQ"
   },
   "outputs": [],
   "source": [
    "image_transforms1 = {\n",
    "    \"train\": transforms.Compose([\n",
    "        transforms.RandomRotation(30),\n",
    "        #transforms.RandomResizedCrop(224),\n",
    "        transforms.RandomHorizontalFlip(),\n",
    "        #transforms.RandomAffine(0, shear=10, scale = (0.8, 1.2)),\n",
    "        #transforms.ColorJitter(brightness=0.2, contrast = 0.2, saturation =0.2),\n",
    "        #transforms.Resize((256, 256)),\n",
    "        transforms.ToTensor(),\n",
    "        transforms.Normalize([0.485, 0.456, 0.406],[0.229, 0.224, 0.225])\n",
    "    ]),\n",
    "    \"test\": transforms.Compose([\n",
    "        #transforms.Resize((256, 256)),\n",
    "        transforms.ToTensor(),\n",
    "        transforms.Resize(255),\n",
    "        transforms.Normalize([0.485, 0.456, 0.406],[0.229, 0.224, 0.225])\n",
    "    ])\n",
    "}"
   ]
  },
  {
   "cell_type": "code",
   "execution_count": 13,
   "metadata": {
    "id": "aS6NIGEUttMm"
   },
   "outputs": [],
   "source": [
    "image_transforms2 = {\n",
    "    \"train\": transforms.Compose([\n",
    "        #transforms.Resize((256, 256)),\n",
    "        transforms.ToTensor()\n",
    "    ]),\n",
    "    \"test\": transforms.Compose([\n",
    "        #transforms.Resize((256, 256)),\n",
    "        transforms.ToTensor()\n",
    "    ])\n",
    "}"
   ]
  },
  {
   "cell_type": "code",
   "execution_count": 14,
   "metadata": {
    "id": "W_8zzw3UXzeh"
   },
   "outputs": [],
   "source": [
    "food_train_dataset = FoodDataset(csv_file=os.path.join(\"train.csv\"), \n",
    "                                 root_dir=os.path.join(\"train_images\"), \n",
    "                                 dataset_type=\"train\",\n",
    "                                 transform = image_transforms1[\"train\"]\n",
    "                                 )"
   ]
  },
  {
   "cell_type": "code",
   "execution_count": 15,
   "metadata": {
    "id": "eEVzPfOkYS4q"
   },
   "outputs": [],
   "source": [
    "food_test_dataset = FoodDataset(csv_file=os.path.join(\"test.csv\"), \n",
    "                                root_dir=os.path.join(\"test_images\"), \n",
    "                                dataset_type=\"test\",\n",
    "                                 transform = image_transforms1[\"test\"]\n",
    "                                )"
   ]
  },
  {
   "cell_type": "markdown",
   "metadata": {
    "id": "q8isgvf5YfEp"
   },
   "source": [
    "# Analyzing the Train and Test Data\n",
    "\n",
    "To begin with, it's a good practice to get an overview of the data that is present. In this problem statement, the task is a ***classification task***. Therefore, it is good to see the distribution of classes in the train dataset, and whether there exists a bias/skewed distribution in the data. \n",
    "\n",
    "Here, there are `9323` train samples and `484` test data images. The normalized $64 * 64$ images of the first 8 train samples are shown below, to get an idea of how the train data looks like. \n",
    "\n",
    "Further, a normalized histogram of the number of occurences of each class is also plotted. We see that there does exist a skew in the distribution, as the samples of class `water` , `bread-white` are much higher than the classes `pickle`, `onion` etc."
   ]
  },
  {
   "cell_type": "code",
   "execution_count": 16,
   "metadata": {
    "colab": {
     "base_uri": "https://localhost:8080/"
    },
    "id": "pjsPZhfEYk2I",
    "outputId": "93c903bf-93e5-4690-f3b4-4239be66c350"
   },
   "outputs": [
    {
     "name": "stdout",
     "output_type": "stream",
     "text": [
      "Total train samples = 3726\n",
      "Total test samples = 484\n"
     ]
    }
   ],
   "source": [
    "print(\"Total train samples =\", len(food_train_dataset))\n",
    "print(\"Total test samples =\", len(food_test_dataset))"
   ]
  },
  {
   "cell_type": "code",
   "execution_count": 17,
   "metadata": {
    "colab": {
     "base_uri": "https://localhost:8080/",
     "height": 258
    },
    "id": "PJ9yeXSRJcDq",
    "outputId": "ad16a747-e944-4acb-bd46-935dccceaf6d"
   },
   "outputs": [
    {
     "name": "stderr",
     "output_type": "stream",
     "text": [
      "Clipping input data to the valid range for imshow with RGB data ([0..1] for floats or [0..255] for integers).\n",
      "Clipping input data to the valid range for imshow with RGB data ([0..1] for floats or [0..255] for integers).\n",
      "Clipping input data to the valid range for imshow with RGB data ([0..1] for floats or [0..255] for integers).\n",
      "Clipping input data to the valid range for imshow with RGB data ([0..1] for floats or [0..255] for integers).\n",
      "Clipping input data to the valid range for imshow with RGB data ([0..1] for floats or [0..255] for integers).\n"
     ]
    },
    {
     "data": {
      "image/png": "[encoded data removed]",
      "text/plain": [
       "<Figure size 720x720 with 5 Axes>"
      ]
     },
     "metadata": {
      "needs_background": "light",
      "tags": []
     },
     "output_type": "display_data"
    }
   ],
   "source": [
    "fig = plt.figure(figsize = (10,10))\n",
    "\n",
    "for i in range(0, 5):\n",
    "    sample = food_train_dataset[i]\n",
    "    ax = plt.subplot(1, 5, i + 1)\n",
    "    plt.tight_layout()\n",
    "    ax.set_title('Train sample #{}'.format(sample['food_class']))\n",
    "    #ax.axis('off')\n",
    "    ax.imshow(sample[\"image\"].permute(1, 2, 0))   #EACH IMAGE IS OF THE SHAPE = (C x H x W)"
   ]
  },
  {
   "cell_type": "code",
   "execution_count": 18,
   "metadata": {
    "colab": {
     "base_uri": "https://localhost:8080/",
     "height": 535
    },
    "id": "tyW_DpejZ5Zl",
    "outputId": "d8e8a6bc-a585-408b-9472-3eed50f4ddb9"
   },
   "outputs": [
    {
     "data": {
      "text/plain": [
       "<matplotlib.axes._subplots.AxesSubplot at 0x7f3dfd5c3990>"
      ]
     },
     "execution_count": 18,
     "metadata": {
      "tags": []
     },
     "output_type": "execute_result"
    },
    {
     "data": {
      "image/png": "[encoded data removed]",
      "text/plain": [
       "<Figure size 2880x720 with 1 Axes>"
      ]
     },
     "metadata": {
      "needs_background": "light",
      "tags": []
     },
     "output_type": "display_data"
    }
   ],
   "source": [
    "food_train_dataset.food_df.value_counts(\"ClassName\", normalize=True).plot(x=\"ClassName\", y=\"count\", kind=\"bar\", fontsize=12, figsize=(40,10))"
   ]
  },
  {
   "cell_type": "code",
   "execution_count": 19,
   "metadata": {
    "id": "7geI462rcfCV"
   },
   "outputs": [],
   "source": [
    "#create the train validation and test dataloaders\n",
    "\n",
    "BATCH_SIZE = 128\n",
    "VAL_SPLIT = 0.2\n",
    "shuffle_dataset = True\n",
    "random_seed= 42\n",
    "\n",
    "# Creating data indices for training and validation splits:\n",
    "dataset_size = len(food_train_dataset)\n",
    "indices = list(range(len(food_train_dataset)))\n",
    "split = int(np.floor(VAL_SPLIT * dataset_size))\n",
    "\n",
    "if shuffle_dataset :\n",
    "    np.random.seed(random_seed)\n",
    "    np.random.shuffle(indices)\n",
    "train_indices, val_indices = indices[split:], indices[:split]\n",
    "\n",
    "# Creating PT data samplers and loaders:\n",
    "train_sampler = SubsetRandomSampler(train_indices)\n",
    "val_sampler = SubsetRandomSampler(val_indices)"
   ]
  },
  {
   "cell_type": "code",
   "execution_count": 20,
   "metadata": {
    "colab": {
     "base_uri": "https://localhost:8080/"
    },
    "id": "R7ssAm3WaHPB",
    "outputId": "04af9bdc-976c-4717-e3db-4940a754df02"
   },
   "outputs": [
    {
     "name": "stderr",
     "output_type": "stream",
     "text": [
      "/usr/local/lib/python3.7/dist-packages/torch/utils/data/dataloader.py:477: UserWarning: This DataLoader will create 4 worker processes in total. Our suggested max number of worker in current system is 2, which is smaller than what this DataLoader is going to create. Please be aware that excessive worker creation might get DataLoader running slow or even freeze, lower the worker number to avoid potential slowness/freeze if necessary.\n",
      "  cpuset_checked))\n"
     ]
    }
   ],
   "source": [
    "train_dataloader = DataLoader(food_train_dataset, batch_size=BATCH_SIZE, num_workers=4, sampler=train_sampler)\n",
    "val_dataloader = DataLoader(food_train_dataset, batch_size=BATCH_SIZE, num_workers=4, sampler=val_sampler)\n",
    "test_dataloader = DataLoader(food_test_dataset, batch_size=BATCH_SIZE, shuffle=False, num_workers=4)"
   ]
  },
  {
   "cell_type": "code",
   "execution_count": 21,
   "metadata": {
    "colab": {
     "base_uri": "https://localhost:8080/"
    },
    "id": "11kY75gne12G",
    "outputId": "8c2be9ea-1502-4e1c-c755-c309201f0b80"
   },
   "outputs": [
    {
     "name": "stdout",
     "output_type": "stream",
     "text": [
      "Total train batches = 24\n",
      "Total validation batches = 6\n",
      "Total test batches = 4\n"
     ]
    }
   ],
   "source": [
    "print(\"Total train batches =\", len(train_dataloader))\n",
    "print(\"Total validation batches =\", len(val_dataloader))\n",
    "print(\"Total test batches =\", len(test_dataloader))"
   ]
  },
  {
   "cell_type": "markdown",
   "metadata": {
    "id": "AgGSid7ofxOR"
   },
   "source": [
    "# Build Image Classifier : Model Architechture\n",
    "\n",
    "\n",
    "For the model architechture, a convolutional neural network based architechture was used. The model was experimented with different hyper parameters and the results for each are noted below. \n",
    "\n",
    "For the classification task of classifying these food images into one out of the 61 classes, the ***SGD optimizer*** was chosen with a learnign rate of ```0.007```, momentum of ```0.95``` and a weight decay of ```1e-5```. For the loss function, the ```CrossEntropyLoss``` was used and the output of the classifier was decided using the ```softmax``` non-linearity. \n",
    "\n",
    "In this architechture, the CNN layers follow the arrangement of : ```CNN > Pool > BatchNorm > Activation > Dropout```\n",
    "Since the max pooling and the non-linearities/activations commute, therefore, they can be applied in an interchangeable order. [[Ref]](https://stackoverflow.com/questions/35543428/activation-function-after-pooling-layer-or-convolutional-layer)\n",
    "\n",
    "\n",
    "\n",
    "References:\n",
    "* 2 conv layers : [Link](https://www.analyticsvidhya.com/blog/2019/10/building-image-classification-models-cnn-pytorch/)\n",
    "* More complex architechture : [Link](https://thevatsalsaglani.medium.com/training-and-deploying-a-multi-label-image-classifier-using-pytorch-flask-reactjs-and-firebase-c39c96f9c427)\n",
    "* [CNN Ref](https://towardsdatascience.com/a-beginners-guide-to-convolutional-neural-networks-cnns-14649dbddce8)\n",
    "* [Digit Classifier](https://towardsdatascience.com/convolutional-neural-network-for-image-classification-with-implementation-on-python-using-pytorch-7b88342c9ca9)\n",
    "* [CNN2 Ref](https://medium.com/analytics-vidhya/image-classification-with-convolutional-neural-networks-ac14a978f0fa)\n",
    "* [Binary Class CNN](https://github.com/Haylemicheal/Cats-vs-Dogs-Classifier/blob/master/Cats%20vs%20Dogs%20classifier.ipynb)"
   ]
  },
  {
   "cell_type": "code",
   "execution_count": 22,
   "metadata": {
    "id": "aSoJwlZMe_A-"
   },
   "outputs": [],
   "source": [
    "# defining the model architecture\n",
    "class FoodClassifier(nn.Module):   \n",
    "    def __init__(self):\n",
    "        super(FoodClassifier, self).__init__()\n",
    "\n",
    "        '''\n",
    "        Architechture option 1\n",
    "        '''\n",
    "        # self.cnn_layers = nn.Sequential(\n",
    "        #     # Defining a 2D convolution layer\n",
    "        #     nn.Conv2d(3, 4, kernel_size=3, stride=1, padding=1),\n",
    "        #     nn.BatchNorm2d(4),\n",
    "        #     nn.ReLU(inplace=True),\n",
    "        #     nn.MaxPool2d(kernel_size=2, stride=2),\n",
    "        #     # Defining another 2D convolution layer\n",
    "        #     nn.Conv2d(4, 4, kernel_size=3, stride=1, padding=1),\n",
    "        #     nn.BatchNorm2d(4),\n",
    "        #     nn.ReLU(inplace=True),\n",
    "        #     nn.MaxPool2d(kernel_size=2, stride=2),\n",
    "        # )\n",
    "\n",
    "        # self.linear_layers = nn.Sequential(\n",
    "        #     nn.Linear(4 * 64 * 64, 62)\n",
    "        #)\n",
    "\n",
    "        '''\n",
    "        Architechture option 2\n",
    "        '''\n",
    "        self.ConvLayer1 = nn.Sequential(nn.Conv2d(3, 32, 3, stride=1, padding=1), \n",
    "                                        nn.MaxPool2d(2),\n",
    "                                        #nn.LPPool2d(2,2), \n",
    "                                        #nn.BatchNorm2d(32),\n",
    "                                        nn.ReLU(), \n",
    "                                        nn.Dropout(0.3)\n",
    "                                        )\n",
    "        self.ConvLayer2 = nn.Sequential(nn.Conv2d(32, 64, 3, stride=1, padding=1),\n",
    "                                        nn.MaxPool2d(2), \n",
    "                                        #nn.LPPool2d(2,2),\n",
    "                                        #nn.BatchNorm2d(64),\n",
    "                                        nn.ReLU(),\n",
    "                                        nn.Dropout(0.3)\n",
    "                                        )\n",
    "        self.ConvLayer3 = nn.Sequential(nn.Conv2d(64, 128, 3, stride=1, padding=1), \n",
    "                                        nn.MaxPool2d(2), \n",
    "                                        #nn.LPPool2d(2,2),\n",
    "                                        #nn.BatchNorm2d(128),\n",
    "                                        nn.ReLU(), \n",
    "                                        nn.Dropout(0.3)\n",
    "                                        )\n",
    "        self.ConvLayer4 = nn.Sequential(nn.Conv2d(128, 256, 3, stride=1, padding=1),\n",
    "                                        nn.MaxPool2d(2), \n",
    "                                        #nn.LPPool2d(2,2),\n",
    "                                        #nn.BatchNorm2d(256),\n",
    "                                        nn.ReLU(), \n",
    "                                        nn.Dropout(0.3)\n",
    "                                        )\n",
    "        \n",
    "        self.ConvLayer5 = nn.Sequential(nn.Conv2d(256, 512, 3, stride=1, padding=1),\n",
    "                                        nn.MaxPool2d(2), \n",
    "                                        #nn.LPPool2d(2,2),\n",
    "                                        #nn.BatchNorm2d(512),\n",
    "                                        nn.ReLU(), \n",
    "                                        nn.Dropout(0.3)\n",
    "                                        )\n",
    "        \n",
    "        self.LinearLayers = nn.Sequential(nn.Linear(512 * 2*2, 1024),\n",
    "                                          nn.Linear(1024, 512),\n",
    "                                          nn.Linear(512, 256),\n",
    "                                          nn.Linear(256, 62),\n",
    "                                          #nn.Linear(512, 62),\n",
    "                                          #nn.LogSoftmax(dim=1)\n",
    "                                        )\n",
    "\n",
    "\n",
    "    # Defining the forward pass    \n",
    "    def forward(self, x):\n",
    "        '''\n",
    "        Forward pass option 1 \n",
    "        '''\n",
    "        # x = self.cnn_layers(x)\n",
    "        # x = x.view(x.size(0), -1)\n",
    "        # x = self.linear_layers(x)\n",
    "        # return x\n",
    "\n",
    "        '''\n",
    "        Forward pass option 2\n",
    "        '''\n",
    "        #print(\"ori x \", x.shape)\n",
    "        x = self.ConvLayer1(x)\n",
    "        #print(\"layer 1\", x.shape)\n",
    "        x = self.ConvLayer2(x)\n",
    "        #print(\"layer 2\", x.shape)\n",
    "        x = self.ConvLayer3(x)\n",
    "        #print(\"layer 3\", x.shape)\n",
    "        x = self.ConvLayer4(x)\n",
    "        #print(\"layer 4\", x.shape)\n",
    "        x = self.ConvLayer5(x)\n",
    "        #print(\"layer 5\", x.shape)\n",
    "        x = x.view(x.size(0), -1)\n",
    "        x = self.LinearLayers(x)\n",
    "        return x"
   ]
  },
  {
   "cell_type": "code",
   "execution_count": 23,
   "metadata": {
    "colab": {
     "base_uri": "https://localhost:8080/"
    },
    "id": "6qZtnZ7EiTD8",
    "outputId": "83e99bb9-0e1c-47f1-e8c9-238ddef03eb6"
   },
   "outputs": [
    {
     "name": "stdout",
     "output_type": "stream",
     "text": [
      "cuda:0\n",
      "FoodClassifier(\n",
      "  (ConvLayer1): Sequential(\n",
      "    (0): Conv2d(3, 32, kernel_size=(3, 3), stride=(1, 1), padding=(1, 1))\n",
      "    (1): MaxPool2d(kernel_size=2, stride=2, padding=0, dilation=1, ceil_mode=False)\n",
      "    (2): ReLU()\n",
      "    (3): Dropout(p=0.3, inplace=False)\n",
      "  )\n",
      "  (ConvLayer2): Sequential(\n",
      "    (0): Conv2d(32, 64, kernel_size=(3, 3), stride=(1, 1), padding=(1, 1))\n",
      "    (1): MaxPool2d(kernel_size=2, stride=2, padding=0, dilation=1, ceil_mode=False)\n",
      "    (2): ReLU()\n",
      "    (3): Dropout(p=0.3, inplace=False)\n",
      "  )\n",
      "  (ConvLayer3): Sequential(\n",
      "    (0): Conv2d(64, 128, kernel_size=(3, 3), stride=(1, 1), padding=(1, 1))\n",
      "    (1): MaxPool2d(kernel_size=2, stride=2, padding=0, dilation=1, ceil_mode=False)\n",
      "    (2): ReLU()\n",
      "    (3): Dropout(p=0.3, inplace=False)\n",
      "  )\n",
      "  (ConvLayer4): Sequential(\n",
      "    (0): Conv2d(128, 256, kernel_size=(3, 3), stride=(1, 1), padding=(1, 1))\n",
      "    (1): MaxPool2d(kernel_size=2, stride=2, padding=0, dilation=1, ceil_mode=False)\n",
      "    (2): ReLU()\n",
      "    (3): Dropout(p=0.3, inplace=False)\n",
      "  )\n",
      "  (ConvLayer5): Sequential(\n",
      "    (0): Conv2d(256, 512, kernel_size=(3, 3), stride=(1, 1), padding=(1, 1))\n",
      "    (1): MaxPool2d(kernel_size=2, stride=2, padding=0, dilation=1, ceil_mode=False)\n",
      "    (2): ReLU()\n",
      "    (3): Dropout(p=0.3, inplace=False)\n",
      "  )\n",
      "  (LinearLayers): Sequential(\n",
      "    (0): Linear(in_features=2048, out_features=1024, bias=True)\n",
      "    (1): Linear(in_features=1024, out_features=512, bias=True)\n",
      "    (2): Linear(in_features=512, out_features=256, bias=True)\n",
      "    (3): Linear(in_features=256, out_features=62, bias=True)\n",
      "  )\n",
      ")\n"
     ]
    }
   ],
   "source": [
    "# checking if GPU is available\n",
    "device = torch.device(\"cuda:0\" if torch.cuda.is_available() else \"cpu\")\n",
    "\n",
    "\n",
    "# defining the model, optimizer, loss func\n",
    "model = FoodClassifier().to(device)\n",
    "# optimizer = optim.Adam(model.parameters(), lr=0.007)\n",
    "# optimizer = optim.SGD(model.parameters(), lr = 0.0001, momentum = 0.9, weight_decay = 5e-5)\n",
    "optimizer = optim.SGD(model.parameters(), lr = 0.007, momentum = 0.95, weight_decay = 1e-5)\n",
    "\n",
    "#loss_fn = nn.NLLLoss().to(device) #negative log likelihood loss function is better as it can capture the softmax layer\n",
    "loss_fn = nn.CrossEntropyLoss().to(device)\n",
    "\n",
    "'''\n",
    "nn.CrossEntropyLoss expects integer labels. What it does internally is that it doesn't end up one-hot encoding \n",
    "the class label at all, but uses the label to index into the output probability vector to calculate the loss \n",
    "should you decide to use this class as the final label. This small but important detail makes computing the loss \n",
    "easier and is the equivalent operation to performing one-hot encoding, measuring the output loss per output neuron \n",
    "as every value in the output layer would be zero with the exception of the neuron indexed at the target class. \n",
    "Therefore, there's no need to one-hot encode your data if you have the labels already provided.\n",
    "'''\n",
    "\n",
    "print(device)\n",
    "print(model)"
   ]
  },
  {
   "cell_type": "markdown",
   "metadata": {
    "id": "loMUU-Xeilxg"
   },
   "source": [
    "# Training the Model on Train Dataset"
   ]
  },
  {
   "cell_type": "code",
   "execution_count": 24,
   "metadata": {
    "id": "kxTNiqnBmHRT"
   },
   "outputs": [],
   "source": [
    "EPOCHS = 50"
   ]
  },
  {
   "cell_type": "code",
   "execution_count": null,
   "metadata": {
    "colab": {
     "base_uri": "https://localhost:8080/"
    },
    "id": "kGaRBF8Tigu5",
    "outputId": "c2800e79-f7be-4c40-8006-d64f819a29b1"
   },
   "outputs": [
    {
     "name": "stderr",
     "output_type": "stream",
     "text": [
      "\r",
      "  0%|          | 0/50 [00:00<?, ?it/s]/usr/local/lib/python3.7/dist-packages/torch/utils/data/dataloader.py:477: UserWarning: This DataLoader will create 4 worker processes in total. Our suggested max number of worker in current system is 2, which is smaller than what this DataLoader is going to create. Please be aware that excessive worker creation might get DataLoader running slow or even freeze, lower the worker number to avoid potential slowness/freeze if necessary.\n",
      "  cpuset_checked))\n"
     ]
    },
    {
     "name": "stdout",
     "output_type": "stream",
     "text": [
      "Epoch: 0 \tTraining Loss: 4.068678 \tValidation Loss: 4.001070\n",
      "Validation Loss decreased inf -> 4.001070\n"
     ]
    },
    {
     "name": "stderr",
     "output_type": "stream",
     "text": [
      "  4%|▍         | 2/50 [00:54<21:41, 27.10s/it]"
     ]
    },
    {
     "name": "stdout",
     "output_type": "stream",
     "text": [
      "Epoch: 1 \tTraining Loss: 3.850668 \tValidation Loss: 3.906051\n",
      "Validation Loss decreased 4.001070 -> 3.906051\n"
     ]
    },
    {
     "name": "stderr",
     "output_type": "stream",
     "text": [
      "\r",
      "  6%|▌         | 3/50 [01:21<21:04, 26.91s/it]"
     ]
    },
    {
     "name": "stdout",
     "output_type": "stream",
     "text": [
      "Epoch: 2 \tTraining Loss: 3.800769 \tValidation Loss: 3.889673\n",
      "Validation Loss decreased 3.906051 -> 3.889673\n"
     ]
    },
    {
     "name": "stderr",
     "output_type": "stream",
     "text": [
      "\r",
      "  8%|▊         | 4/50 [01:47<20:33, 26.81s/it]"
     ]
    },
    {
     "name": "stdout",
     "output_type": "stream",
     "text": [
      "Epoch: 3 \tTraining Loss: 3.790681 \tValidation Loss: 3.895962\n"
     ]
    },
    {
     "name": "stderr",
     "output_type": "stream",
     "text": [
      "\r",
      " 10%|█         | 5/50 [02:14<20:00, 26.68s/it]"
     ]
    },
    {
     "name": "stdout",
     "output_type": "stream",
     "text": [
      "Epoch: 4 \tTraining Loss: 3.781772 \tValidation Loss: 3.898541\n"
     ]
    },
    {
     "name": "stderr",
     "output_type": "stream",
     "text": [
      "\r",
      " 12%|█▏        | 6/50 [02:40<19:35, 26.71s/it]"
     ]
    },
    {
     "name": "stdout",
     "output_type": "stream",
     "text": [
      "Epoch: 5 \tTraining Loss: 3.777383 \tValidation Loss: 3.893712\n"
     ]
    },
    {
     "name": "stderr",
     "output_type": "stream",
     "text": [
      "\r",
      " 14%|█▍        | 7/50 [03:07<19:11, 26.77s/it]"
     ]
    },
    {
     "name": "stdout",
     "output_type": "stream",
     "text": [
      "Epoch: 6 \tTraining Loss: 3.776137 \tValidation Loss: 3.881700\n",
      "Validation Loss decreased 3.889673 -> 3.881700\n"
     ]
    },
    {
     "name": "stderr",
     "output_type": "stream",
     "text": [
      "\r",
      " 16%|█▌        | 8/50 [03:34<18:48, 26.86s/it]"
     ]
    },
    {
     "name": "stdout",
     "output_type": "stream",
     "text": [
      "Epoch: 7 \tTraining Loss: 3.766905 \tValidation Loss: 3.873371\n",
      "Validation Loss decreased 3.881700 -> 3.873371\n"
     ]
    },
    {
     "name": "stderr",
     "output_type": "stream",
     "text": [
      "\r",
      " 18%|█▊        | 9/50 [04:01<18:19, 26.83s/it]"
     ]
    },
    {
     "name": "stdout",
     "output_type": "stream",
     "text": [
      "Epoch: 8 \tTraining Loss: 3.756387 \tValidation Loss: 3.849538\n",
      "Validation Loss decreased 3.873371 -> 3.849538\n"
     ]
    },
    {
     "name": "stderr",
     "output_type": "stream",
     "text": [
      "\r",
      " 20%|██        | 10/50 [04:28<17:55, 26.89s/it]"
     ]
    },
    {
     "name": "stdout",
     "output_type": "stream",
     "text": [
      "Epoch: 9 \tTraining Loss: 3.742014 \tValidation Loss: 3.849487\n",
      "Validation Loss decreased 3.849538 -> 3.849487\n"
     ]
    },
    {
     "name": "stderr",
     "output_type": "stream",
     "text": [
      "\r",
      " 22%|██▏       | 11/50 [04:55<17:26, 26.82s/it]"
     ]
    },
    {
     "name": "stdout",
     "output_type": "stream",
     "text": [
      "Epoch: 10 \tTraining Loss: 3.727936 \tValidation Loss: 3.811517\n",
      "Validation Loss decreased 3.849487 -> 3.811517\n"
     ]
    },
    {
     "name": "stderr",
     "output_type": "stream",
     "text": [
      "\r",
      " 24%|██▍       | 12/50 [05:22<16:58, 26.80s/it]"
     ]
    },
    {
     "name": "stdout",
     "output_type": "stream",
     "text": [
      "Epoch: 11 \tTraining Loss: 3.703359 \tValidation Loss: 3.789500\n",
      "Validation Loss decreased 3.811517 -> 3.789500\n"
     ]
    },
    {
     "name": "stderr",
     "output_type": "stream",
     "text": [
      "\r",
      " 26%|██▌       | 13/50 [05:48<16:29, 26.75s/it]"
     ]
    },
    {
     "name": "stdout",
     "output_type": "stream",
     "text": [
      "Epoch: 12 \tTraining Loss: 3.661501 \tValidation Loss: 3.723548\n",
      "Validation Loss decreased 3.789500 -> 3.723548\n"
     ]
    },
    {
     "name": "stderr",
     "output_type": "stream",
     "text": [
      "\r",
      " 28%|██▊       | 14/50 [06:15<16:01, 26.72s/it]"
     ]
    },
    {
     "name": "stdout",
     "output_type": "stream",
     "text": [
      "Epoch: 13 \tTraining Loss: 3.559103 \tValidation Loss: 3.625774\n",
      "Validation Loss decreased 3.723548 -> 3.625774\n"
     ]
    },
    {
     "name": "stderr",
     "output_type": "stream",
     "text": [
      "\r",
      " 30%|███       | 15/50 [06:42<15:37, 26.80s/it]"
     ]
    },
    {
     "name": "stdout",
     "output_type": "stream",
     "text": [
      "Epoch: 14 \tTraining Loss: 3.485201 \tValidation Loss: 3.571400\n",
      "Validation Loss decreased 3.625774 -> 3.571400\n"
     ]
    },
    {
     "name": "stderr",
     "output_type": "stream",
     "text": [
      "\r",
      " 32%|███▏      | 16/50 [07:09<15:11, 26.82s/it]"
     ]
    },
    {
     "name": "stdout",
     "output_type": "stream",
     "text": [
      "Epoch: 15 \tTraining Loss: 3.405142 \tValidation Loss: 3.496828\n",
      "Validation Loss decreased 3.571400 -> 3.496828\n"
     ]
    },
    {
     "name": "stderr",
     "output_type": "stream",
     "text": [
      "\r",
      " 34%|███▍      | 17/50 [07:35<14:43, 26.78s/it]"
     ]
    },
    {
     "name": "stdout",
     "output_type": "stream",
     "text": [
      "Epoch: 16 \tTraining Loss: 3.355492 \tValidation Loss: 3.460856\n",
      "Validation Loss decreased 3.496828 -> 3.460856\n"
     ]
    },
    {
     "name": "stderr",
     "output_type": "stream",
     "text": [
      "\r",
      " 36%|███▌      | 18/50 [08:02<14:19, 26.86s/it]"
     ]
    },
    {
     "name": "stdout",
     "output_type": "stream",
     "text": [
      "Epoch: 17 \tTraining Loss: 3.313044 \tValidation Loss: 3.432184\n",
      "Validation Loss decreased 3.460856 -> 3.432184\n"
     ]
    },
    {
     "name": "stderr",
     "output_type": "stream",
     "text": [
      "\r",
      " 38%|███▊      | 19/50 [08:29<13:52, 26.86s/it]"
     ]
    },
    {
     "name": "stdout",
     "output_type": "stream",
     "text": [
      "Epoch: 18 \tTraining Loss: 3.302297 \tValidation Loss: 3.498917\n"
     ]
    },
    {
     "name": "stderr",
     "output_type": "stream",
     "text": [
      "\r",
      " 40%|████      | 20/50 [08:56<13:26, 26.90s/it]"
     ]
    },
    {
     "name": "stdout",
     "output_type": "stream",
     "text": [
      "Epoch: 19 \tTraining Loss: 3.300555 \tValidation Loss: 3.403292\n",
      "Validation Loss decreased 3.432184 -> 3.403292\n"
     ]
    },
    {
     "name": "stderr",
     "output_type": "stream",
     "text": [
      "\r",
      " 42%|████▏     | 21/50 [09:23<12:58, 26.86s/it]"
     ]
    },
    {
     "name": "stdout",
     "output_type": "stream",
     "text": [
      "Epoch: 20 \tTraining Loss: 3.293251 \tValidation Loss: 3.428301\n"
     ]
    },
    {
     "name": "stderr",
     "output_type": "stream",
     "text": [
      "\r",
      " 44%|████▍     | 22/50 [09:50<12:31, 26.85s/it]"
     ]
    },
    {
     "name": "stdout",
     "output_type": "stream",
     "text": [
      "Epoch: 21 \tTraining Loss: 3.267803 \tValidation Loss: 3.408002\n"
     ]
    },
    {
     "name": "stderr",
     "output_type": "stream",
     "text": [
      "\r",
      " 46%|████▌     | 23/50 [10:17<12:08, 26.96s/it]"
     ]
    },
    {
     "name": "stdout",
     "output_type": "stream",
     "text": [
      "Epoch: 22 \tTraining Loss: 3.263500 \tValidation Loss: 3.386812\n",
      "Validation Loss decreased 3.403292 -> 3.386812\n"
     ]
    },
    {
     "name": "stderr",
     "output_type": "stream",
     "text": [
      "\r",
      " 48%|████▊     | 24/50 [10:44<11:42, 27.01s/it]"
     ]
    },
    {
     "name": "stdout",
     "output_type": "stream",
     "text": [
      "Epoch: 23 \tTraining Loss: 3.225140 \tValidation Loss: 3.371709\n",
      "Validation Loss decreased 3.386812 -> 3.371709\n"
     ]
    },
    {
     "name": "stderr",
     "output_type": "stream",
     "text": [
      "\r",
      " 50%|█████     | 25/50 [11:12<11:18, 27.13s/it]"
     ]
    },
    {
     "name": "stdout",
     "output_type": "stream",
     "text": [
      "Epoch: 24 \tTraining Loss: 3.199994 \tValidation Loss: 3.324267\n",
      "Validation Loss decreased 3.371709 -> 3.324267\n"
     ]
    },
    {
     "name": "stderr",
     "output_type": "stream",
     "text": [
      "\r",
      " 52%|█████▏    | 26/50 [11:39<10:49, 27.08s/it]"
     ]
    },
    {
     "name": "stdout",
     "output_type": "stream",
     "text": [
      "Epoch: 25 \tTraining Loss: 3.225750 \tValidation Loss: 3.346155\n"
     ]
    },
    {
     "name": "stderr",
     "output_type": "stream",
     "text": [
      "\r",
      " 54%|█████▍    | 27/50 [12:06<10:25, 27.19s/it]"
     ]
    },
    {
     "name": "stdout",
     "output_type": "stream",
     "text": [
      "Epoch: 26 \tTraining Loss: 3.221611 \tValidation Loss: 3.378502\n"
     ]
    },
    {
     "name": "stderr",
     "output_type": "stream",
     "text": [
      "\r",
      " 56%|█████▌    | 28/50 [12:33<09:57, 27.17s/it]"
     ]
    },
    {
     "name": "stdout",
     "output_type": "stream",
     "text": [
      "Epoch: 27 \tTraining Loss: 3.181564 \tValidation Loss: 3.390127\n"
     ]
    },
    {
     "name": "stderr",
     "output_type": "stream",
     "text": [
      "\r",
      " 58%|█████▊    | 29/50 [13:00<09:29, 27.12s/it]"
     ]
    },
    {
     "name": "stdout",
     "output_type": "stream",
     "text": [
      "Epoch: 28 \tTraining Loss: 3.165837 \tValidation Loss: 3.285823\n",
      "Validation Loss decreased 3.324267 -> 3.285823\n"
     ]
    },
    {
     "name": "stderr",
     "output_type": "stream",
     "text": [
      "\r",
      " 60%|██████    | 30/50 [13:27<09:01, 27.10s/it]"
     ]
    },
    {
     "name": "stdout",
     "output_type": "stream",
     "text": [
      "Epoch: 29 \tTraining Loss: 3.138036 \tValidation Loss: 3.290580\n"
     ]
    },
    {
     "name": "stderr",
     "output_type": "stream",
     "text": [
      "\r",
      " 62%|██████▏   | 31/50 [13:54<08:35, 27.11s/it]"
     ]
    },
    {
     "name": "stdout",
     "output_type": "stream",
     "text": [
      "Epoch: 30 \tTraining Loss: 3.093691 \tValidation Loss: 3.235719\n",
      "Validation Loss decreased 3.285823 -> 3.235719\n"
     ]
    },
    {
     "name": "stderr",
     "output_type": "stream",
     "text": [
      "\r",
      " 64%|██████▍   | 32/50 [14:21<08:06, 27.05s/it]"
     ]
    },
    {
     "name": "stdout",
     "output_type": "stream",
     "text": [
      "Epoch: 31 \tTraining Loss: 3.049239 \tValidation Loss: 3.241016\n"
     ]
    },
    {
     "name": "stderr",
     "output_type": "stream",
     "text": [
      "\r",
      " 66%|██████▌   | 33/50 [14:48<07:39, 27.03s/it]"
     ]
    },
    {
     "name": "stdout",
     "output_type": "stream",
     "text": [
      "Epoch: 32 \tTraining Loss: 3.033079 \tValidation Loss: 3.202566\n",
      "Validation Loss decreased 3.235719 -> 3.202566\n"
     ]
    },
    {
     "name": "stderr",
     "output_type": "stream",
     "text": [
      "\r",
      " 68%|██████▊   | 34/50 [15:15<07:12, 27.05s/it]"
     ]
    },
    {
     "name": "stdout",
     "output_type": "stream",
     "text": [
      "Epoch: 33 \tTraining Loss: 3.050487 \tValidation Loss: 3.269139\n"
     ]
    },
    {
     "name": "stderr",
     "output_type": "stream",
     "text": [
      "\r",
      " 70%|███████   | 35/50 [15:42<06:45, 27.04s/it]"
     ]
    },
    {
     "name": "stdout",
     "output_type": "stream",
     "text": [
      "Epoch: 34 \tTraining Loss: 3.000022 \tValidation Loss: 3.165038\n",
      "Validation Loss decreased 3.202566 -> 3.165038\n"
     ]
    },
    {
     "name": "stderr",
     "output_type": "stream",
     "text": [
      "\r",
      " 72%|███████▏  | 36/50 [16:10<06:19, 27.07s/it]"
     ]
    },
    {
     "name": "stdout",
     "output_type": "stream",
     "text": [
      "Epoch: 35 \tTraining Loss: 3.004814 \tValidation Loss: 3.254885\n"
     ]
    },
    {
     "name": "stderr",
     "output_type": "stream",
     "text": [
      "\r",
      " 74%|███████▍  | 37/50 [16:37<05:52, 27.09s/it]"
     ]
    },
    {
     "name": "stdout",
     "output_type": "stream",
     "text": [
      "Epoch: 36 \tTraining Loss: 2.964728 \tValidation Loss: 3.121039\n",
      "Validation Loss decreased 3.165038 -> 3.121039\n"
     ]
    },
    {
     "name": "stderr",
     "output_type": "stream",
     "text": [
      "\r",
      " 76%|███████▌  | 38/50 [17:04<05:24, 27.04s/it]"
     ]
    },
    {
     "name": "stdout",
     "output_type": "stream",
     "text": [
      "Epoch: 37 \tTraining Loss: 2.975860 \tValidation Loss: 3.161856\n"
     ]
    },
    {
     "name": "stderr",
     "output_type": "stream",
     "text": [
      "\r",
      " 78%|███████▊  | 39/50 [17:30<04:56, 26.98s/it]"
     ]
    },
    {
     "name": "stdout",
     "output_type": "stream",
     "text": [
      "Epoch: 38 \tTraining Loss: 2.928621 \tValidation Loss: 3.139967\n"
     ]
    },
    {
     "name": "stderr",
     "output_type": "stream",
     "text": [
      "\r",
      " 80%|████████  | 40/50 [17:57<04:29, 26.97s/it]"
     ]
    },
    {
     "name": "stdout",
     "output_type": "stream",
     "text": [
      "Epoch: 39 \tTraining Loss: 2.883814 \tValidation Loss: 3.088470\n",
      "Validation Loss decreased 3.121039 -> 3.088470\n"
     ]
    },
    {
     "name": "stderr",
     "output_type": "stream",
     "text": [
      "\r",
      " 82%|████████▏ | 41/50 [18:24<04:02, 26.91s/it]"
     ]
    },
    {
     "name": "stdout",
     "output_type": "stream",
     "text": [
      "Epoch: 40 \tTraining Loss: 2.853579 \tValidation Loss: 3.139678\n"
     ]
    },
    {
     "name": "stderr",
     "output_type": "stream",
     "text": [
      "\r",
      " 84%|████████▍ | 42/50 [18:51<03:35, 26.89s/it]"
     ]
    },
    {
     "name": "stdout",
     "output_type": "stream",
     "text": [
      "Epoch: 41 \tTraining Loss: 2.863008 \tValidation Loss: 3.013699\n",
      "Validation Loss decreased 3.088470 -> 3.013699\n"
     ]
    },
    {
     "name": "stderr",
     "output_type": "stream",
     "text": [
      "\r",
      " 86%|████████▌ | 43/50 [19:18<03:08, 26.94s/it]"
     ]
    },
    {
     "name": "stdout",
     "output_type": "stream",
     "text": [
      "Epoch: 42 \tTraining Loss: 2.819278 \tValidation Loss: 3.050200\n"
     ]
    },
    {
     "name": "stderr",
     "output_type": "stream",
     "text": [
      "\r",
      " 88%|████████▊ | 44/50 [19:45<02:41, 26.90s/it]"
     ]
    },
    {
     "name": "stdout",
     "output_type": "stream",
     "text": [
      "Epoch: 43 \tTraining Loss: 2.783170 \tValidation Loss: 3.151755\n"
     ]
    },
    {
     "name": "stderr",
     "output_type": "stream",
     "text": [
      "\r",
      " 90%|█████████ | 45/50 [20:12<02:14, 26.84s/it]"
     ]
    },
    {
     "name": "stdout",
     "output_type": "stream",
     "text": [
      "Epoch: 44 \tTraining Loss: 2.736220 \tValidation Loss: 3.016377\n"
     ]
    },
    {
     "name": "stderr",
     "output_type": "stream",
     "text": [
      "\r",
      " 92%|█████████▏| 46/50 [20:38<01:47, 26.87s/it]"
     ]
    },
    {
     "name": "stdout",
     "output_type": "stream",
     "text": [
      "Epoch: 45 \tTraining Loss: 2.752192 \tValidation Loss: 2.983394\n",
      "Validation Loss decreased 3.013699 -> 2.983394\n"
     ]
    },
    {
     "name": "stderr",
     "output_type": "stream",
     "text": [
      "\r",
      " 94%|█████████▍| 47/50 [21:05<01:20, 26.88s/it]"
     ]
    },
    {
     "name": "stdout",
     "output_type": "stream",
     "text": [
      "Epoch: 46 \tTraining Loss: 2.737959 \tValidation Loss: 3.041764\n"
     ]
    },
    {
     "name": "stderr",
     "output_type": "stream",
     "text": [
      "\r",
      " 96%|█████████▌| 48/50 [21:32<00:53, 26.84s/it]"
     ]
    },
    {
     "name": "stdout",
     "output_type": "stream",
     "text": [
      "Epoch: 47 \tTraining Loss: 2.691392 \tValidation Loss: 2.958551\n",
      "Validation Loss decreased 2.983394 -> 2.958551\n"
     ]
    },
    {
     "name": "stderr",
     "output_type": "stream",
     "text": [
      "\r",
      " 98%|█████████▊| 49/50 [21:59<00:26, 26.86s/it]"
     ]
    },
    {
     "name": "stdout",
     "output_type": "stream",
     "text": [
      "Epoch: 48 \tTraining Loss: 2.685598 \tValidation Loss: 2.927234\n",
      "Validation Loss decreased 2.958551 -> 2.927234\n"
     ]
    },
    {
     "name": "stderr",
     "output_type": "stream",
     "text": [
      "100%|██████████| 50/50 [22:26<00:00, 26.93s/it]"
     ]
    },
    {
     "name": "stdout",
     "output_type": "stream",
     "text": [
      "Epoch: 49 \tTraining Loss: 2.662605 \tValidation Loss: 2.990697\n"
     ]
    },
    {
     "name": "stderr",
     "output_type": "stream",
     "text": [
      "\n"
     ]
    }
   ],
   "source": [
    "train_losses = []\n",
    "val_losses = []\n",
    "val_loss_min = np.Inf\n",
    "\n",
    "for epoch in tqdm.tqdm(range(EPOCHS)):\n",
    "\n",
    "    train_loss = 0\n",
    "    val_loss = 0\n",
    "\n",
    "    #trainign on the train dataset\n",
    "    model.train()\n",
    "    for batch in (train_dataloader):\n",
    "        \n",
    "        images = batch[\"image\"]\n",
    "        labels = batch[\"food_class\"]\n",
    "\n",
    "        if torch.cuda.is_available():\n",
    "            images = images.to(device)\n",
    "            labels = labels.to(device)\n",
    "\n",
    "        # Training pass\n",
    "        optimizer.zero_grad()\n",
    "        output = model(images)\n",
    "        #_, predicted = torch.max(torch.exp(output.data), 1)\n",
    "\n",
    "        #print(\"out \", output.shape, \"lab \", labels.shape, \"pred\", predicted.shape)\n",
    "        #print(output)\n",
    "        #print(predicted)\n",
    "        #print(labels)\n",
    "\n",
    "        loss = loss_fn(output, labels)\n",
    "\n",
    "        #print(loss.item(),\"loss\")\n",
    "        #print(images.size(0), \"sizes\")\n",
    "        #print(\"loss term = \", loss.item()*images.size(0))\n",
    "\n",
    "        #print(torch.exp(output[0]))\n",
    "        #print(output.data[0])\n",
    "        #print(output[0])\n",
    "\n",
    "        #This is where the model learns by backpropagating\n",
    "        loss.backward()\n",
    "\n",
    "        #And optimizes its weights here\n",
    "        optimizer.step()\n",
    "        train_loss += loss.item()*images.size(0)\n",
    "        '''\n",
    "        because the loss given by CrossEntropy or other loss functions is \n",
    "        divided by the number of elements i.e. the reduction parameter is mean by default.\n",
    "        '''\n",
    "\n",
    "    #evaluating on the validation dataset\n",
    "    model.eval()\n",
    "    with torch.no_grad():\n",
    "        for batch in (val_dataloader):\n",
    "            \n",
    "            images = batch[\"image\"]\n",
    "            labels = batch[\"food_class\"]\n",
    "\n",
    "            if torch.cuda.is_available():\n",
    "                images = images.to(device)\n",
    "                labels = labels.to(device)\n",
    "\n",
    "            output = model(images)\n",
    "            loss = loss_fn(output, labels)\n",
    "            val_loss += loss.item()*images.size(0)\n",
    "\n",
    "    train_loss = train_loss/len(train_dataloader.sampler)\n",
    "    val_loss = val_loss/len(val_dataloader.sampler)\n",
    "    \n",
    "    train_losses.append(train_loss)\n",
    "    val_losses.append(val_loss)\n",
    "    \n",
    "    print('Epoch: {} \\tTraining Loss: {:.6f} \\tValidation Loss: {:.6f}'.format(epoch, train_loss, val_loss))\n",
    "    \n",
    "    if val_loss <= val_loss_min:\n",
    "        print(\"Validation Loss decreased {:0.6f} -> {:0.6f}\".format(val_loss_min,val_loss))\n",
    "        val_loss_min = val_loss\n",
    "        torch.save(model.state_dict(), os.path.join(DATA_PATH , 'best_model.pth'))\n",
    "    #print()\n",
    "    #print(\"Epoch {} - Training loss: {}\".format(i+1, running_loss/len(train_dataloader)))"
   ]
  },
  {
   "cell_type": "code",
   "execution_count": null,
   "metadata": {
    "colab": {
     "base_uri": "https://localhost:8080/",
     "height": 281
    },
    "id": "0tARFa6iOwL1",
    "outputId": "d9396381-81a9-4441-87f2-0b478a97371f"
   },
   "outputs": [
    {
     "data": {
      "image/png": "[encoded data removed]",
      "text/plain": [
       "<Figure size 864x288 with 2 Axes>"
      ]
     },
     "metadata": {
      "needs_background": "light",
      "tags": []
     },
     "output_type": "display_data"
    }
   ],
   "source": [
    "fig, ax = plt.subplots(1,2, figsize = (12,4))\n",
    "\n",
    "ax[0].plot(train_losses, label='Training loss')\n",
    "ax[0].plot(val_losses, label='Validation loss')\n",
    "ax[0].legend(frameon=False)\n",
    "ax[0].set_title(\"50 Epochs Snapshot\")\n",
    "\n",
    "ax[1].plot(train_losses[:10], label='Training loss')\n",
    "ax[1].plot(val_losses[:10], label='Validation loss')\n",
    "ax[1].legend(frameon=False)\n",
    "ax[1].set_title(\"10 Epochs snapshot\")\n",
    "\n",
    "plt.savefig(\"loss_plot.png\")"
   ]
  },
  {
   "cell_type": "code",
   "execution_count": 36,
   "metadata": {
    "colab": {
     "base_uri": "https://localhost:8080/"
    },
    "id": "vpTcJ9T-A_Fr",
    "outputId": "1c842e1f-0c6f-4ba5-9863-6df680201ce3"
   },
   "outputs": [
    {
     "name": "stderr",
     "output_type": "stream",
     "text": [
      "/usr/local/lib/python3.7/dist-packages/torch/utils/data/dataloader.py:477: UserWarning: This DataLoader will create 4 worker processes in total. Our suggested max number of worker in current system is 2, which is smaller than what this DataLoader is going to create. Please be aware that excessive worker creation might get DataLoader running slow or even freeze, lower the worker number to avoid potential slowness/freeze if necessary.\n",
      "  cpuset_checked))\n"
     ]
    },
    {
     "name": "stdout",
     "output_type": "stream",
     "text": [
      "Accuracy of the network =  28.187919463087248\n"
     ]
    }
   ],
   "source": [
    "model.load_state_dict(torch.load(os.path.join(DATA_PATH, 'Model3.pth')))\n",
    "model.eval()\n",
    "\n",
    "correct = 0\n",
    "total = 0\n",
    "preds = []\n",
    "ground_truths = []\n",
    "\n",
    "with torch.no_grad():\n",
    "    for batch in (val_dataloader):\n",
    "        images = batch['image'].to(device)\n",
    "        labels = batch['food_class'].to(device)\n",
    "\n",
    "        outputs = model(images)\n",
    "        _, predicted = torch.max(outputs.data, 1)\n",
    "        \n",
    "        total += labels.size(0)\n",
    "        \n",
    "        preds += [pr for pr in predicted.detach().cpu().numpy()]                \n",
    "        ground_truths += [ truth for truth in labels.detach().cpu().numpy()]\n",
    "        \n",
    "        correct += (predicted == labels).sum().item()\n",
    "\n",
    "print('Accuracy of the network = ', (100 * correct / total))"
   ]
  },
  {
   "cell_type": "markdown",
   "metadata": {
    "id": "4izLOT_9GpiH"
   },
   "source": [
    "## Plotting Conf matrix"
   ]
  },
  {
   "cell_type": "code",
   "execution_count": 37,
   "metadata": {
    "id": "baV2hC-N_9RS"
   },
   "outputs": [],
   "source": [
    "from sklearn.metrics import confusion_matrix\n",
    "import sklearn.metrics\n",
    "import seaborn as sns"
   ]
  },
  {
   "cell_type": "code",
   "execution_count": 38,
   "metadata": {
    "colab": {
     "base_uri": "https://localhost:8080/",
     "height": 597
    },
    "id": "doO_HVz5Gsv5",
    "outputId": "6318757d-4a71-4659-81e4-1f26e91fb795",
    "scrolled": true
   },
   "outputs": [
    {
     "data": {
      "text/plain": [
       "<matplotlib.colorbar.Colorbar at 0x7f3df69ada50>"
      ]
     },
     "execution_count": 38,
     "metadata": {
      "tags": []
     },
     "output_type": "execute_result"
    },
    {
     "data": {
      "image/png": "[encoded data removed]",
      "text/plain": [
       "<Figure size 720x720 with 2 Axes>"
      ]
     },
     "metadata": {
      "needs_background": "light",
      "tags": []
     },
     "output_type": "display_data"
    }
   ],
   "source": [
    "cm = sklearn.metrics.confusion_matrix(preds, ground_truths)\n",
    "\n",
    "fig = plt.figure(figsize = (10,10))\n",
    "plt.imshow(cm, cmap=plt.cm.Blues)\n",
    "plt.colorbar()"
   ]
  },
  {
   "cell_type": "code",
   "execution_count": 1,
   "metadata": {},
   "outputs": [],
   "source": [
    "def readim(path):\n",
    "    \n",
    "    im = cv2.imread(path)\n",
    "    im = cv2.cvtColor(im, cv2.COLOR_BGR2RGB)\n",
    "    return im"
   ]
  },
  {
   "cell_type": "markdown",
   "metadata": {
    "id": "8DdL__VEIoYT"
   },
   "source": [
    "# ------------------------------------------------------\n",
    "# Final Observations and Results : \n",
    "# ------------------------------------------------------\n",
    "\n",
    "\n",
    "There are multiple hyperparameters that are associated with this model and classification task. Each of the hyperparameters was fine-tuned and experimented with, keeping the other parameters constant. Their effect on the accuracy, recall, runtime, and overall performance for the classification task was noted down. \n",
    "\n",
    "Targe size of the train-dataset is considerably large : ```9323``` train images split as train and validation data. Unlike the robust pretrained models of densenet, resnet etc. this model is a relatively shallow architechture that was built from scratch for these experiments. Hence in order to reduce the runtime, a *subsample* of the training data ```3726``` train samples were used. \n",
    "\n",
    "All the results mentioned in this analysis are based on this subsampled dataset only. However, for a few experiments, the full dataset was also used. \n",
    "\n",
    "A detailed analysis of the effect of each of the hyperparameters is mentioned in the following parts of the notebook.\n"
   ]
  },
  {
   "cell_type": "markdown",
   "metadata": {},
   "source": [
    "## ------------------------------------------------------\n",
    "## <mark>1) Batch Norm                           </mark>\n",
    "## ------------------------------------------------------\n",
    "\n",
    "\n",
    "Normalization is a pre-processing technique used to standardize data. It improves the learning speed of Neural Networks and provides regularization, avoiding overfitting. Batch Norm is a normalization technique done between the layers of a Neural Network instead of in the raw data. It is done along mini-batches instead of the full data set. It serves to speed up training and use higher learning rates, making learning easier. <sup>[[1]](https://www.baeldung.com/cs/batch-normalization-cnn)</sup>\n",
    "\n",
    "> This experiment was done using both the *full set* of data as well as the *random subsample* of the training data.\n",
    "\n",
    "There are primarily **2 observations** made with the ```BatchNorm``` hyperparameter : \n",
    "\n",
    "1. For the full dataset, we observe that with the batch norm, we achieve a higher accuracy as compared to the one without batch norm.\n",
    "\n",
    "2. For shallow networks, BatchNorm effects are not that prominet. It is more **beneficial for deep neural networks (DNN)**. In a shallow Network, BNorm introduces an additional computational load plus some extra parameters. <sup>[[1]](https://www.quora.com/Have-you-ever-observed-that-batch-normalization-actually-slows-the-training-down)</sup> <sup>[[2]](https://discuss.pytorch.org/t/slow-training-and-validation-loss-doesnt-decrease/57687/3)</sup>\n",
    "\n",
    "The accuracies obtained are as follows : \n",
    "\n",
    "| BatchNorm |      Data   | Val Acc |\n",
    "|:----------------:|:-----------------:|:---------:|\n",
    "| No |  Full Data | 30.8476 |\n",
    "| Yes |  Full Data | **33.4764** |\n",
    "| No |  Subset Data | **27.9194** |\n",
    "| Yes |  Subset Data | 25.9060 |\n"
   ]
  },
  {
   "cell_type": "markdown",
   "metadata": {},
   "source": [
    "The graphs for the train-validation loss as well as the confusion matrices of the experiments are as follows : \n",
    "\n",
    "### Train- Validation Loss Plots\n",
    "\n",
    "| WITHOUT Batch Norm (Full data) |      WITH Batch Norm (Full data)   |\n",
    "|:----------------:|:-----------------:|\n",
    "| ![](../graphs/old/fullset/model0-tr-val.png) |  ![](../graphs/old/fullset/model1-tr-val.png) |\n",
    "\n",
    "\n",
    "\n",
    "| WITHOUT Batch Norm (Subsample data)   |      WITH Batch Norm (Subsample data)     |\n",
    "|:----------------|:-----------------:|\n",
    "| ![](../graphs/colab-graphs/subset/model0-tv.png) |  ![](../graphs/colab-graphs/subset/model1-tv.png) |\n",
    "\n",
    "\n",
    "### Confusion Matrices\n",
    "\n",
    "| WITHOUT Batch Norm (Subsample)  |      WITH Batch Norm (Subsample)     |\n",
    "|:----------------|:-----------------:|\n",
    "| <img src=\"../graphs/colab-graphs/subset/model0-cm.png\" alt=\"Drawing\" style=\"width: 350px;\"/> |  <img src=\"../graphs/colab-graphs/subset/model1-cm.png\" alt=\"Drawing\" style=\"width: 350px;\"/> |"
   ]
  },
  {
   "cell_type": "markdown",
   "metadata": {},
   "source": [
    "## ------------------------------------------------------\n",
    "## <mark>2) CNN and Linear Layers                          </mark>\n",
    "## ------------------------------------------------------\n",
    "\n",
    "Deeper CNNs perform better that shallow ones. This is primarily because, they are able to extract more number of high level features at the early layers, and the low level information is captured at the later layers. Therefore, a lot of information about the image is obtained via deeper layers. A deeper model will convolve more the input data thereby extracting relevant feature (mostly the edges, shapes, colors, etc). This allows the network to perform more convolutions and lets it extract with more precision the features it “judges” relevant according to the dataset. <sup>[[1]](https://medium.com/finc-engineering/cnn-do-we-need-to-go-deeper-afe1041e263e)</sup>\n",
    "\n",
    "> This experiment was done using both the *full set* of data as well as the *random subsample* of the training data.\n",
    "\n",
    "In this architechture experiment, two experiments were done :\n",
    "1. ***Model a)***: With 3 CNN Layers and 3 Linear Layers\n",
    "2. ***Model b)*** With 5 CNN Layers and 4 Linear Layers\n",
    "\n",
    "The accuracies obtained are as follows : \n",
    "\n",
    "| Model |      Data   | Val Acc |\n",
    "|:----------------:|:-----------------:|:---------:|\n",
    "| Model a) |  Full Data | 30.8476 |\n",
    "| Model b) |  Full Data | **33.9056** |\n",
    "| Model a) |  Subsample Data | 27.5168 |\n",
    "| Model b) |  Subsample Data | **28.0537** |\n",
    "\n"
   ]
  },
  {
   "cell_type": "markdown",
   "metadata": {},
   "source": [
    "The graphs for the train-validation loss as well as the confusion matrices of the experiments are as follows : \n",
    "\n",
    "### Train- Validation Loss Plots\n",
    "\n",
    "From the train and validation loss plots as well as the accuracies obtained above, we can clearly observe that having more layers definitely improves the performance of the CNN and classification model. Further, it **prevents overfitting** of the model as shown in the loss plot, as the validation loss also continues to decrease with increase in the number of epochs indicating that the model training is not overfitting. The advantage of multiple layers is that they can learn features at various levels of abstraction.\n",
    "\n",
    "\n",
    "\n",
    "| Model a) Full Data |      Model b) Full Data  |\n",
    "|:----------------:|:-----------------:|\n",
    "| ![](../graphs/old/fullset/model0-tr-val.png) |  ![](../graphs/old/fullset/model2-tr-val.png) |\n",
    "\n",
    "\n",
    "\n",
    "| Model a) Subsample |      Model b) Subsample  |\n",
    "|:----------------|:-----------------:|\n",
    "| ![](../graphs/colab-graphs/subset/model0-tv.png) |  ![](../graphs/colab-graphs/subset/model2-tv.png) |\n",
    "\n",
    "\n",
    "### Confusion Matrices\n",
    "\n",
    "| Model a) |      Model b)   |\n",
    "|:----------------|:-----------------:|\n",
    "| <img src=\"../graphs/colab-graphs/subset/model0-cm.png\" alt=\"Drawing\" style=\"width: 350px;\"/> |  <img src=\"../graphs/colab-graphs/subset/model2-cm.png\" alt=\"Drawing\" style=\"width: 350px;\"/> |"
   ]
  },
  {
   "cell_type": "markdown",
   "metadata": {},
   "source": [
    "## ------------------------------------------------------\n",
    "## <mark>3) Dropout                         </mark>\n",
    "## ------------------------------------------------------\n",
    "\n",
    "Dropout is a regularization method that approximates training a large number of neural networks with different architectures in parallel. During training, some number of layer outputs are randomly ignored or “dropped out.” This has the effect of making the layer look-like and be treated-like a layer with a different number of nodes and connectivity to the prior layer. In effect, each update to a layer during training is performed with a different “view” of the configured layer.<sup>[[1]](https://machinelearningmastery.com/dropout-for-regularizing-deep-neural-networks/)</sup>\n",
    "\n",
    "Drop out helps prevent overfitting and acts as a good regularizer term.\n",
    "\n",
    "> This experiment was done using both the *full set* of data as well as the *random subsample* of the training data.\n",
    "\n",
    "In this architechture experiment, two experiments were done :\n",
    "1. ***Model a)***: Dropout = None, 5 CNN Layers and 4 Linear Layers\n",
    "2. ***Model b)***: Dropout = 0.3,  5 CNN Layers and 4 Linear Layers\n",
    "\n",
    "The accuracies obtained are as follows : \n",
    "\n",
    "| Model |      Data   | Val Acc |\n",
    "|:----------------:|:-----------------:|:---------:|\n",
    "| Model a) |  Full Data | 33.9056 |\n",
    "| Model b) |  Full Data | **34.3348** |\n",
    "| Model a) |  Subsample Data | **28.0537** |\n",
    "| Model b) |  Subsample Data | 26.8456 |\n",
    "\n"
   ]
  },
  {
   "cell_type": "markdown",
   "metadata": {},
   "source": [
    "| Model a) Full Data |      Model b) Full Data  |\n",
    "|:----------------:|:-----------------:|\n",
    "| ![](../graphs/old/fullset/model2-tr-val.png) |  ![](../graphs/old/fullset/model3-tr-val.png) |\n",
    "\n",
    "\n",
    "\n",
    "| Model a) Subsample |      Model b)  Subsample |\n",
    "|:----------------|:-----------------:|\n",
    "| ![](../graphs/colab-graphs/subset/model2-tv.png) |  ![](../graphs/colab-graphs/subset/model3-tv.png) |\n",
    "\n",
    "\n",
    "### Confusion Matrices\n",
    "\n",
    "| Model a) |      Model b)   |\n",
    "|:----------------|:-----------------:|\n",
    "| <img src=\"../graphs/colab-graphs/subset/model0-cm.png\" alt=\"Drawing\" style=\"width: 350px;\"/> |  <img src=\"../graphs/colab-graphs/subset/model3-cm.png\" alt=\"Drawing\" style=\"width: 350px;\"/> |"
   ]
  },
  {
   "cell_type": "markdown",
   "metadata": {},
   "source": [
    "## ------------------------------------------------------\n",
    "## <mark>4) Activation Functions                        </mark>\n",
    "## ------------------------------------------------------\n",
    "\n",
    "The most common activation function used with CNNs is the ```ReLU```. In the experiments that were conducted, there were 3 activation functions that were tried :  ```ReLU```, ```Tanh``` and ```Sigmoid```. The best results were obtained using ReLU while the lowest accuracy was with Sigmoid. For each of these activation functions, the same number of CN and Linear Layers were used - 5 CNN and 4 Linear layers. Further, we observe that the performance of ReLU and TanH was relatively similar\n",
    "\n",
    "The accuracies obtained are as follows : \n",
    "\n",
    "| Activation |      Data   | Val Acc |\n",
    "|:----------------:|:-----------------:|:---------:|\n",
    "| Sigmoid |  Subsample Data | 8.9933 |\n",
    "| Tanh |  Subsample Data | 26.7798 |\n",
    "| ReLU |  Subsample Data | **26.8457** |\n",
    "\n",
    "```ReLU``` is the best suited for classification purposes as in this case. It avoids and rectifies the vanishing gradient problem. It's uses commonly along with CNNs and it has the power to converge the model quickly as well. \n",
    "\n",
    "```Sigmoid``` is an activation function whose range is located between 0 and 1, and it generally works better when we have to predict the probability as an output in logistic regression scenarios to determine the probability of classes occurrence. <sup>[[1]](https://datascience.aero/aviation-function-deep-learning/)</sup>\n",
    "\n",
    "On the other hand, the ```Tanh``` function has a main advantage that that the negative inputs will be mapped strongly negative and the zero inputs will be mapped near zero. The ```Tanh function``` is mainly used in scenarios where we want to perform a classification between two classes. <sup>[[1]](https://datascience.aero/aviation-function-deep-learning/)</sup>\n",
    "\n",
    "\n"
   ]
  },
  {
   "cell_type": "markdown",
   "metadata": {},
   "source": [
    "|ReLU |      Tanh   | Sigmoid | \n",
    "|:----------------|:-----------------:|:-----------------:|\n",
    "| ![](../graphs/colab-graphs/subset/model2-tv.png) |  ![](../graphs/colab-graphs/subset/model5-tv.png) |  ![](../graphs/colab-graphs/subset/model6-tv.png) |\n",
    "\n",
    "\n",
    "### Confusion Matrices\n",
    "\n",
    "|ReLU |      Tanh   | Sigmoid | \n",
    "|:----------------|:-----------------:|:-----------------:|\n",
    "| <img src=\"../graphs/colab-graphs/subset/model2-cm.png\" alt=\"Drawing\" style=\"width: 350px;\"/> |  <img src=\"../graphs/colab-graphs/subset/model5-cm.png\" alt=\"Drawing\" style=\"width: 350px;\"/> |<img src=\"../graphs/colab-graphs/subset/model6-cm.png\" alt=\"Drawing\" style=\"width: 350px;\"/> | "
   ]
  },
  {
   "cell_type": "markdown",
   "metadata": {},
   "source": [
    "## ------------------------------------------------------\n",
    "## <mark>5) Pooling Strategies                        </mark>\n",
    "## ------------------------------------------------------\n",
    "\n",
    "Pooling layers are commonly accompanied with convolutional layer. Their function is to progressively reduce the spatial size of the representation to reduce the amount of parameters and computation in the network. Pooling layers operate on each feature map independently. <sup>[[1]](https://medium.com/technologymadeeasy/the-best-explanation-of-convolutional-neural-networks-on-the-internet-fbb8b1ad5df8)</sup>\n",
    "\n",
    "The choice of pooling operation is made based on the data at hand. ***Average pooling*** method smooths out the image and hence the sharp features may not be identified when this pooling method is used. \n",
    "\n",
    "***Max pooling*** selects the brighter pixels from the image. It is useful when the background of the image is dark and we are interested in only the lighter pixels of the image. <sup>[[2]](https://medium.com/@bdhuma/which-pooling-method-is-better-maxpooling-vs-minpooling-vs-average-pooling-95fb03f45a9)</sup>\n",
    "\n",
    "Whereas ***LPPooling*** applies a 2D power-average pooling over an input signal composed of several input planes.\n",
    "\n",
    "\n",
    "For each of these activation functions, the same number of CN and Linear Layers were used - 5 CNN and 4 Linear layers.\n",
    "\n",
    "The accuracies obtained are as follows : \n",
    "\n",
    "| Pooling strategy |      Data   | Val Acc |\n",
    "|:----------------:|:-----------------:|:---------:|\n",
    "| Max Pooling |  Subsample Data | **26.8456** |\n",
    "| Avg Pooling |  Subsample Data | 17.1812|\n",
    "| LP Pooling |  Subsample Data | 15.9732 |\n",
    "\n",
    "We observe that the **best results** are obtained using the **```MaxPool```** strategy.\n",
    "\n",
    "\n"
   ]
  },
  {
   "cell_type": "markdown",
   "metadata": {},
   "source": [
    "|MaxPool |      AvgPool   | LPPool | \n",
    "|:----------------|:-----------------:|:-----------------:|\n",
    "| ![](../graphs/colab-graphs/subset/model3-tv.png) |  ![](../graphs/colab-graphs/subset/model8-tv.png) |  ![](../graphs/colab-graphs/subset/model9-tv.png) |\n",
    "\n",
    "\n",
    "### Confusion Matrices\n",
    "\n",
    "|MaxPool |      AvgPool   | LPPool | \n",
    "|:----------------|:-----------------:|:-----------------:|\n",
    "| <img src=\"../graphs/colab-graphs/subset/model3-cm.png\" alt=\"Drawing\" style=\"width: 350px;\"/> |  <img src=\"../graphs/colab-graphs/subset/model8-cm.png\" alt=\"Drawing\" style=\"width: 350px;\"/> |<img src=\"../graphs/colab-graphs/subset/model9-cm.png\" alt=\"Drawing\" style=\"width: 350px;\"/> | "
   ]
  },
  {
   "cell_type": "markdown",
   "metadata": {},
   "source": [
    "## ------------------------------------------------------\n",
    "## <mark>6) Optimizer Options                        </mark>\n",
    "## ------------------------------------------------------\n",
    "\n",
    "\n",
    "For this experiment, 2 options were used - ```Adam``` and ```SGD``` optimizers. \n",
    "\n",
    "**```SGD```** is a variant of gradient descent. Instead of performing computations on the whole dataset — which is redundant and inefficient — SGD only computes on a small subset or random selection of data examples. SGD produces the same performance as regular gradient descent when the learning rate is low. <sup>[[1]](https://medium.com/syncedreview/iclr-2019-fast-as-adam-good-as-sgd-new-optimizer-has-both-78e37e8f9a34) </sup>\n",
    "\n",
    "**```Adam```** is an algorithm for gradient-based optimization of stochastic objective functions. It combines the advantages of two SGD extensions — Root Mean Square Propagation (RMSProp) and Adaptive Gradient Algorithm (AdaGrad) <sup>[[1]](https://medium.com/syncedreview/iclr-2019-fast-as-adam-good-as-sgd-new-optimizer-has-both-78e37e8f9a34) </sup>. \n",
    "\n",
    "However, in this classification task, the SGD optimizer seemed to perform much better than the Adam optimizer. Adam has a lower training error/loss, but not val. error/loss. <sup> [[2]](https://shaoanlu.wordpress.com/2017/05/29/sgd-all-which-one-is-the-best-optimizer-dogs-vs-cats-toy-experiment/) </sup>\n",
    "\n",
    "The accuracies obtained are as follows : \n",
    "\n",
    "| Optimizer |      Data   | Val Acc |\n",
    "|:----------------:|:-----------------:|:---------:|\n",
    "| SGD |  Subsample Data | **26.84564** |\n",
    "| Adam |  Subsample Data | 8.9933|"
   ]
  },
  {
   "cell_type": "markdown",
   "metadata": {},
   "source": [
    "|SGD |      Adam   | \n",
    "|:----------------|:-----------------:|\n",
    "| ![](../graphs/colab-graphs/subset/model3-tv.png) |  ![](../graphs/colab-graphs/subset/model11-tv.png) | \n",
    "\n",
    "\n",
    "### Confusion Matrices\n",
    "\n",
    "|SGD |      Adam   | \n",
    "|:----------------|:-----------------:|\n",
    "| <img src=\"../graphs/colab-graphs/subset/model3-cm.png\" alt=\"Drawing\" style=\"width: 350px;\"/> |  <img src=\"../graphs/colab-graphs/subset/model11-cm.png\" alt=\"Drawing\" style=\"width: 350px;\"/> |"
   ]
  },
  {
   "cell_type": "markdown",
   "metadata": {},
   "source": [
    "## ------------------------------------------------------\n",
    "## <mark>7) Data Augmentation                     </mark>\n",
    "## ------------------------------------------------------\n",
    "\n",
    "\n",
    "Data augmentation is a strategy that enables practitioners to significantly increase the diversity of data available for training models, without actually collecting new data. Data augmentation techniques such as cropping, padding, and horizontal flipping are commonly used to train large neural networks. <sup> [[1]](https://bair.berkeley.edu/blog/2019/06/07/data_aug/) </sup> \n",
    "\n",
    "For any DL task, the amount of data required is proportional to the number of learnable parameters in the model. And in our case of multiclass classification, the models have a very large number of learnable parameters. Hence, the data augmentation helps to increase the variety of the dataset size, and helps the model learn better. \n",
    "\n",
    "| Augmentation |      Data   | Val Acc |\n",
    "|:----------------:|:-----------------:|:---------:|\n",
    "| Yes |  Subsample Data | **26.84564** |\n",
    "| No |  Subsample Data | 16.5100|"
   ]
  },
  {
   "cell_type": "markdown",
   "metadata": {},
   "source": [
    "|SGD |      Adam   | \n",
    "|:----------------|:-----------------:|\n",
    "| ![](../graphs/colab-graphs/subset/model3-tv.png) |  ![](../graphs/colab-graphs/subset/model12-tv.png) | \n",
    "\n",
    "\n",
    "### Confusion Matrices\n",
    "\n",
    "|SGD |      Adam   | \n",
    "|:----------------|:-----------------:|\n",
    "| <img src=\"../graphs/colab-graphs/subset/model3-cm.png\" alt=\"Drawing\" style=\"width: 350px;\"/> |  <img src=\"../graphs/colab-graphs/subset/model12-cm.png\" alt=\"Drawing\" style=\"width: 350px;\"/> |"
   ]
  },
  {
   "cell_type": "code",
   "execution_count": null,
   "metadata": {},
   "outputs": [],
   "source": []
  }
 ],
 "metadata": {
  "accelerator": "GPU",
  "colab": {
   "collapsed_sections": [],
   "name": "2Food-Image-Classification.ipynb",
   "provenance": [],
   "toc_visible": true
  },
  "kernelspec": {
   "display_name": "Python 3",
   "language": "python",
   "name": "python3"
  },
  "language_info": {
   "codemirror_mode": {
    "name": "ipython",
    "version": 3
   },
   "file_extension": ".py",
   "mimetype": "text/x-python",
   "name": "python",
   "nbconvert_exporter": "python",
   "pygments_lexer": "ipython3",
   "version": "3.6.9"
  }
 },
 "nbformat": 4,
 "nbformat_minor": 1
}
